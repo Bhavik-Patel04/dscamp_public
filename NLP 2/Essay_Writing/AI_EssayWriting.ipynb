{
  "nbformat": 4,
  "nbformat_minor": 0,
  "metadata": {
    "accelerator": "GPU",
    "colab": {
      "name": "AI_EssayWriting.ipynb",
      "provenance": [],
      "collapsed_sections": []
    },
    "kernelspec": {
      "display_name": "Python 3",
      "language": "python",
      "name": "python3"
    },
    "language_info": {
      "codemirror_mode": {
        "name": "ipython",
        "version": 3
      },
      "file_extension": ".py",
      "mimetype": "text/x-python",
      "name": "python",
      "nbconvert_exporter": "python",
      "pygments_lexer": "ipython3",
      "version": "3.7.4"
    },
    "widgets": {
      "application/vnd.jupyter.widget-state+json": {
        "d687a69107034647879187c2dca24955": {
          "model_module": "@jupyter-widgets/controls",
          "model_name": "HBoxModel",
          "state": {
            "_view_name": "HBoxView",
            "_dom_classes": [],
            "_model_name": "HBoxModel",
            "_view_module": "@jupyter-widgets/controls",
            "_model_module_version": "1.5.0",
            "_view_count": null,
            "_view_module_version": "1.5.0",
            "box_style": "",
            "layout": "IPY_MODEL_edce200e060c4012a50e65149e51fec2",
            "_model_module": "@jupyter-widgets/controls",
            "children": [
              "IPY_MODEL_206a1144dcdf469ca4ba018a2357bf45",
              "IPY_MODEL_f44c23f5e212453ab189e77408752f63"
            ]
          }
        },
        "edce200e060c4012a50e65149e51fec2": {
          "model_module": "@jupyter-widgets/base",
          "model_name": "LayoutModel",
          "state": {
            "_view_name": "LayoutView",
            "grid_template_rows": null,
            "right": null,
            "justify_content": null,
            "_view_module": "@jupyter-widgets/base",
            "overflow": null,
            "_model_module_version": "1.2.0",
            "_view_count": null,
            "flex_flow": null,
            "width": null,
            "min_width": null,
            "border": null,
            "align_items": null,
            "bottom": null,
            "_model_module": "@jupyter-widgets/base",
            "top": null,
            "grid_column": null,
            "overflow_y": null,
            "overflow_x": null,
            "grid_auto_flow": null,
            "grid_area": null,
            "grid_template_columns": null,
            "flex": null,
            "_model_name": "LayoutModel",
            "justify_items": null,
            "grid_row": null,
            "max_height": null,
            "align_content": null,
            "visibility": null,
            "align_self": null,
            "height": null,
            "min_height": null,
            "padding": null,
            "grid_auto_rows": null,
            "grid_gap": null,
            "max_width": null,
            "order": null,
            "_view_module_version": "1.2.0",
            "grid_template_areas": null,
            "object_position": null,
            "object_fit": null,
            "grid_auto_columns": null,
            "margin": null,
            "display": null,
            "left": null
          }
        },
        "206a1144dcdf469ca4ba018a2357bf45": {
          "model_module": "@jupyter-widgets/controls",
          "model_name": "FloatProgressModel",
          "state": {
            "_view_name": "ProgressView",
            "style": "IPY_MODEL_c535330d49ca4605b5900c730d0d5ae7",
            "_dom_classes": [],
            "description": "Loss 8.794260025024414: 100%",
            "_model_name": "FloatProgressModel",
            "bar_style": "success",
            "max": 3,
            "_view_module": "@jupyter-widgets/controls",
            "_model_module_version": "1.5.0",
            "value": 3,
            "_view_count": null,
            "_view_module_version": "1.5.0",
            "orientation": "horizontal",
            "min": 0,
            "description_tooltip": null,
            "_model_module": "@jupyter-widgets/controls",
            "layout": "IPY_MODEL_53e9f88ea31746dcaf552c061e14a6c5"
          }
        },
        "f44c23f5e212453ab189e77408752f63": {
          "model_module": "@jupyter-widgets/controls",
          "model_name": "HTMLModel",
          "state": {
            "_view_name": "HTMLView",
            "style": "IPY_MODEL_eff6317fde794b0e8330d737f4862275",
            "_dom_classes": [],
            "description": "",
            "_model_name": "HTMLModel",
            "placeholder": "​",
            "_view_module": "@jupyter-widgets/controls",
            "_model_module_version": "1.5.0",
            "value": " 3/3 [18:35&lt;00:00, 371.90s/it]",
            "_view_count": null,
            "_view_module_version": "1.5.0",
            "description_tooltip": null,
            "_model_module": "@jupyter-widgets/controls",
            "layout": "IPY_MODEL_262b8943ab55411684a7cde5fb4accb3"
          }
        },
        "c535330d49ca4605b5900c730d0d5ae7": {
          "model_module": "@jupyter-widgets/controls",
          "model_name": "ProgressStyleModel",
          "state": {
            "_view_name": "StyleView",
            "_model_name": "ProgressStyleModel",
            "description_width": "initial",
            "_view_module": "@jupyter-widgets/base",
            "_model_module_version": "1.5.0",
            "_view_count": null,
            "_view_module_version": "1.2.0",
            "bar_color": null,
            "_model_module": "@jupyter-widgets/controls"
          }
        },
        "53e9f88ea31746dcaf552c061e14a6c5": {
          "model_module": "@jupyter-widgets/base",
          "model_name": "LayoutModel",
          "state": {
            "_view_name": "LayoutView",
            "grid_template_rows": null,
            "right": null,
            "justify_content": null,
            "_view_module": "@jupyter-widgets/base",
            "overflow": null,
            "_model_module_version": "1.2.0",
            "_view_count": null,
            "flex_flow": null,
            "width": null,
            "min_width": null,
            "border": null,
            "align_items": null,
            "bottom": null,
            "_model_module": "@jupyter-widgets/base",
            "top": null,
            "grid_column": null,
            "overflow_y": null,
            "overflow_x": null,
            "grid_auto_flow": null,
            "grid_area": null,
            "grid_template_columns": null,
            "flex": null,
            "_model_name": "LayoutModel",
            "justify_items": null,
            "grid_row": null,
            "max_height": null,
            "align_content": null,
            "visibility": null,
            "align_self": null,
            "height": null,
            "min_height": null,
            "padding": null,
            "grid_auto_rows": null,
            "grid_gap": null,
            "max_width": null,
            "order": null,
            "_view_module_version": "1.2.0",
            "grid_template_areas": null,
            "object_position": null,
            "object_fit": null,
            "grid_auto_columns": null,
            "margin": null,
            "display": null,
            "left": null
          }
        },
        "eff6317fde794b0e8330d737f4862275": {
          "model_module": "@jupyter-widgets/controls",
          "model_name": "DescriptionStyleModel",
          "state": {
            "_view_name": "StyleView",
            "_model_name": "DescriptionStyleModel",
            "description_width": "",
            "_view_module": "@jupyter-widgets/base",
            "_model_module_version": "1.5.0",
            "_view_count": null,
            "_view_module_version": "1.2.0",
            "_model_module": "@jupyter-widgets/controls"
          }
        },
        "262b8943ab55411684a7cde5fb4accb3": {
          "model_module": "@jupyter-widgets/base",
          "model_name": "LayoutModel",
          "state": {
            "_view_name": "LayoutView",
            "grid_template_rows": null,
            "right": null,
            "justify_content": null,
            "_view_module": "@jupyter-widgets/base",
            "overflow": null,
            "_model_module_version": "1.2.0",
            "_view_count": null,
            "flex_flow": null,
            "width": null,
            "min_width": null,
            "border": null,
            "align_items": null,
            "bottom": null,
            "_model_module": "@jupyter-widgets/base",
            "top": null,
            "grid_column": null,
            "overflow_y": null,
            "overflow_x": null,
            "grid_auto_flow": null,
            "grid_area": null,
            "grid_template_columns": null,
            "flex": null,
            "_model_name": "LayoutModel",
            "justify_items": null,
            "grid_row": null,
            "max_height": null,
            "align_content": null,
            "visibility": null,
            "align_self": null,
            "height": null,
            "min_height": null,
            "padding": null,
            "grid_auto_rows": null,
            "grid_gap": null,
            "max_width": null,
            "order": null,
            "_view_module_version": "1.2.0",
            "grid_template_areas": null,
            "object_position": null,
            "object_fit": null,
            "grid_auto_columns": null,
            "margin": null,
            "display": null,
            "left": null
          }
        },
        "d1a677c31a544378a24b1c51d44d6da1": {
          "model_module": "@jupyter-widgets/controls",
          "model_name": "HBoxModel",
          "state": {
            "_view_name": "HBoxView",
            "_dom_classes": [],
            "_model_name": "HBoxModel",
            "_view_module": "@jupyter-widgets/controls",
            "_model_module_version": "1.5.0",
            "_view_count": null,
            "_view_module_version": "1.5.0",
            "box_style": "",
            "layout": "IPY_MODEL_140bd9a32bdf4f6abd39c30f62e54e9c",
            "_model_module": "@jupyter-widgets/controls",
            "children": [
              "IPY_MODEL_2614e958fd3a4ed598f7cefa01dabcec",
              "IPY_MODEL_bc883fd3118e4b5084fc45acdcefdcf7"
            ]
          }
        },
        "140bd9a32bdf4f6abd39c30f62e54e9c": {
          "model_module": "@jupyter-widgets/base",
          "model_name": "LayoutModel",
          "state": {
            "_view_name": "LayoutView",
            "grid_template_rows": null,
            "right": null,
            "justify_content": null,
            "_view_module": "@jupyter-widgets/base",
            "overflow": null,
            "_model_module_version": "1.2.0",
            "_view_count": null,
            "flex_flow": null,
            "width": null,
            "min_width": null,
            "border": null,
            "align_items": null,
            "bottom": null,
            "_model_module": "@jupyter-widgets/base",
            "top": null,
            "grid_column": null,
            "overflow_y": null,
            "overflow_x": null,
            "grid_auto_flow": null,
            "grid_area": null,
            "grid_template_columns": null,
            "flex": null,
            "_model_name": "LayoutModel",
            "justify_items": null,
            "grid_row": null,
            "max_height": null,
            "align_content": null,
            "visibility": null,
            "align_self": null,
            "height": null,
            "min_height": null,
            "padding": null,
            "grid_auto_rows": null,
            "grid_gap": null,
            "max_width": null,
            "order": null,
            "_view_module_version": "1.2.0",
            "grid_template_areas": null,
            "object_position": null,
            "object_fit": null,
            "grid_auto_columns": null,
            "margin": null,
            "display": null,
            "left": null
          }
        },
        "2614e958fd3a4ed598f7cefa01dabcec": {
          "model_module": "@jupyter-widgets/controls",
          "model_name": "FloatProgressModel",
          "state": {
            "_view_name": "ProgressView",
            "style": "IPY_MODEL_91dcc55eae5e4c28ae261e840e70e06d",
            "_dom_classes": [],
            "description": "Loss 7.960649490356445: 100%",
            "_model_name": "FloatProgressModel",
            "bar_style": "success",
            "max": 7,
            "_view_module": "@jupyter-widgets/controls",
            "_model_module_version": "1.5.0",
            "value": 7,
            "_view_count": null,
            "_view_module_version": "1.5.0",
            "orientation": "horizontal",
            "min": 0,
            "description_tooltip": null,
            "_model_module": "@jupyter-widgets/controls",
            "layout": "IPY_MODEL_5fc7d1d888344d49907bf84f45dbfc1d"
          }
        },
        "bc883fd3118e4b5084fc45acdcefdcf7": {
          "model_module": "@jupyter-widgets/controls",
          "model_name": "HTMLModel",
          "state": {
            "_view_name": "HTMLView",
            "style": "IPY_MODEL_30e5ee31d23a4e5e9b6e2d696a6b3f52",
            "_dom_classes": [],
            "description": "",
            "_model_name": "HTMLModel",
            "placeholder": "​",
            "_view_module": "@jupyter-widgets/controls",
            "_model_module_version": "1.5.0",
            "value": " 7/7 [00:01&lt;00:00,  5.39it/s]",
            "_view_count": null,
            "_view_module_version": "1.5.0",
            "description_tooltip": null,
            "_model_module": "@jupyter-widgets/controls",
            "layout": "IPY_MODEL_c85d7c7d6d8847bc875ee1b37a771a91"
          }
        },
        "91dcc55eae5e4c28ae261e840e70e06d": {
          "model_module": "@jupyter-widgets/controls",
          "model_name": "ProgressStyleModel",
          "state": {
            "_view_name": "StyleView",
            "_model_name": "ProgressStyleModel",
            "description_width": "initial",
            "_view_module": "@jupyter-widgets/base",
            "_model_module_version": "1.5.0",
            "_view_count": null,
            "_view_module_version": "1.2.0",
            "bar_color": null,
            "_model_module": "@jupyter-widgets/controls"
          }
        },
        "5fc7d1d888344d49907bf84f45dbfc1d": {
          "model_module": "@jupyter-widgets/base",
          "model_name": "LayoutModel",
          "state": {
            "_view_name": "LayoutView",
            "grid_template_rows": null,
            "right": null,
            "justify_content": null,
            "_view_module": "@jupyter-widgets/base",
            "overflow": null,
            "_model_module_version": "1.2.0",
            "_view_count": null,
            "flex_flow": null,
            "width": null,
            "min_width": null,
            "border": null,
            "align_items": null,
            "bottom": null,
            "_model_module": "@jupyter-widgets/base",
            "top": null,
            "grid_column": null,
            "overflow_y": null,
            "overflow_x": null,
            "grid_auto_flow": null,
            "grid_area": null,
            "grid_template_columns": null,
            "flex": null,
            "_model_name": "LayoutModel",
            "justify_items": null,
            "grid_row": null,
            "max_height": null,
            "align_content": null,
            "visibility": null,
            "align_self": null,
            "height": null,
            "min_height": null,
            "padding": null,
            "grid_auto_rows": null,
            "grid_gap": null,
            "max_width": null,
            "order": null,
            "_view_module_version": "1.2.0",
            "grid_template_areas": null,
            "object_position": null,
            "object_fit": null,
            "grid_auto_columns": null,
            "margin": null,
            "display": null,
            "left": null
          }
        },
        "30e5ee31d23a4e5e9b6e2d696a6b3f52": {
          "model_module": "@jupyter-widgets/controls",
          "model_name": "DescriptionStyleModel",
          "state": {
            "_view_name": "StyleView",
            "_model_name": "DescriptionStyleModel",
            "description_width": "",
            "_view_module": "@jupyter-widgets/base",
            "_model_module_version": "1.5.0",
            "_view_count": null,
            "_view_module_version": "1.2.0",
            "_model_module": "@jupyter-widgets/controls"
          }
        },
        "c85d7c7d6d8847bc875ee1b37a771a91": {
          "model_module": "@jupyter-widgets/base",
          "model_name": "LayoutModel",
          "state": {
            "_view_name": "LayoutView",
            "grid_template_rows": null,
            "right": null,
            "justify_content": null,
            "_view_module": "@jupyter-widgets/base",
            "overflow": null,
            "_model_module_version": "1.2.0",
            "_view_count": null,
            "flex_flow": null,
            "width": null,
            "min_width": null,
            "border": null,
            "align_items": null,
            "bottom": null,
            "_model_module": "@jupyter-widgets/base",
            "top": null,
            "grid_column": null,
            "overflow_y": null,
            "overflow_x": null,
            "grid_auto_flow": null,
            "grid_area": null,
            "grid_template_columns": null,
            "flex": null,
            "_model_name": "LayoutModel",
            "justify_items": null,
            "grid_row": null,
            "max_height": null,
            "align_content": null,
            "visibility": null,
            "align_self": null,
            "height": null,
            "min_height": null,
            "padding": null,
            "grid_auto_rows": null,
            "grid_gap": null,
            "max_width": null,
            "order": null,
            "_view_module_version": "1.2.0",
            "grid_template_areas": null,
            "object_position": null,
            "object_fit": null,
            "grid_auto_columns": null,
            "margin": null,
            "display": null,
            "left": null
          }
        }
      }
    }
  },
  "cells": [
    {
      "cell_type": "markdown",
      "metadata": {
        "id": "pUhJmbbeZe_4",
        "colab_type": "text"
      },
      "source": [
        "# Essay Writing using AI\n",
        "\n",
        "*   Part 0: Setup workspace\n",
        "*   Part 1: Loading Machine learning model on any text dataset for free on a GPU using Collaboratory\n",
        "*   Part 2: Training machine learning model on specific topics \n",
        "*   Part 3: Start writing essay"
      ]
    },
    {
      "cell_type": "code",
      "metadata": {
        "id": "quhCq4PKih8P",
        "colab_type": "code",
        "colab": {
          "base_uri": "https://localhost:8080/",
          "height": 17
        },
        "outputId": "bb838d47-4c78-4a99-c0af-32d70f157e71"
      },
      "source": [
        "from IPython.display import HTML, display\n",
        "\n",
        "def set_css():\n",
        "  display(HTML('''\n",
        "  <style>\n",
        "    pre {\n",
        "        white-space: pre-wrap;\n",
        "    }\n",
        "  </style>\n",
        "  '''))\n",
        "get_ipython().events.register('pre_run_cell', set_css)"
      ],
      "execution_count": 33,
      "outputs": [
        {
          "output_type": "display_data",
          "data": {
            "text/html": [
              "\n",
              "  <style>\n",
              "    pre {\n",
              "        white-space: pre-wrap;\n",
              "    }\n",
              "  </style>\n",
              "  "
            ],
            "text/plain": [
              "<IPython.core.display.HTML object>"
            ]
          },
          "metadata": {
            "tags": []
          }
        }
      ]
    },
    {
      "cell_type": "code",
      "metadata": {
        "id": "KWmIdUkdZe_6",
        "colab_type": "code",
        "colab": {}
      },
      "source": [
        "%matplotlib inline\n",
        "\n",
        "import os, sys \n",
        "import logging, io, json, warnings\n",
        "logger = logging.getLogger()\n",
        "logger.setLevel(logging.CRITICAL)\n",
        "warnings.filterwarnings('ignore')"
      ],
      "execution_count": 0,
      "outputs": []
    },
    {
      "cell_type": "code",
      "metadata": {
        "id": "7NXq8MlEZfAA",
        "colab_type": "code",
        "colab": {
          "base_uri": "https://localhost:8080/",
          "height": 51
        },
        "outputId": "ac6423aa-d985-47cf-f1c5-b2d6225da7a7"
      },
      "source": [
        "%load_ext autoreload\n",
        "%autoreload 2"
      ],
      "execution_count": 27,
      "outputs": [
        {
          "output_type": "stream",
          "text": [
            "The autoreload extension is already loaded. To reload it, use:\n",
            "  %reload_ext autoreload\n"
          ],
          "name": "stdout"
        }
      ]
    },
    {
      "cell_type": "markdown",
      "metadata": {
        "id": "t1cv8d9lZfAE",
        "colab_type": "text"
      },
      "source": [
        "## Set up workspace (Mounting Google Drive)\n",
        "\n",
        "1. Mount your google drive\n",
        "2. Add path to the system"
      ]
    },
    {
      "cell_type": "code",
      "metadata": {
        "id": "zScKrrTIcPvQ",
        "colab_type": "code",
        "colab": {
          "base_uri": "https://localhost:8080/",
          "height": 122
        },
        "outputId": "436b8451-eddd-4e82-bc28-17309407fc99"
      },
      "source": [
        "## This is a goodle \n",
        "from google.colab import drive\n",
        "drive.mount('/content/gdrive')"
      ],
      "execution_count": 3,
      "outputs": [
        {
          "output_type": "stream",
          "text": [
            "Go to this URL in a browser: https://accounts.google.com/o/oauth2/auth?client_id=947318989803-6bn6qk8qdgf4n4g3pfee6491hc0brc4i.apps.googleusercontent.com&redirect_uri=urn%3aietf%3awg%3aoauth%3a2.0%3aoob&response_type=code&scope=email%20https%3a%2f%2fwww.googleapis.com%2fauth%2fdocs.test%20https%3a%2f%2fwww.googleapis.com%2fauth%2fdrive%20https%3a%2f%2fwww.googleapis.com%2fauth%2fdrive.photos.readonly%20https%3a%2f%2fwww.googleapis.com%2fauth%2fpeopleapi.readonly\n",
            "\n",
            "Enter your authorization code:\n",
            "··········\n",
            "Mounted at /content/gdrive\n"
          ],
          "name": "stdout"
        }
      ]
    },
    {
      "cell_type": "code",
      "metadata": {
        "id": "NsjomGedcbC7",
        "colab_type": "code",
        "colab": {}
      },
      "source": [
        "mkdir gdrive/'My Drive'/dsscamp"
      ],
      "execution_count": 0,
      "outputs": []
    },
    {
      "cell_type": "code",
      "metadata": {
        "id": "kBanD6l_ctln",
        "colab_type": "code",
        "colab": {
          "base_uri": "https://localhost:8080/",
          "height": 34
        },
        "outputId": "44f6dde0-2aa8-4f02-c551-3f9ccb07770f"
      },
      "source": [
        "cd /content/gdrive/'My Drive'/dscamp2"
      ],
      "execution_count": 9,
      "outputs": [
        {
          "output_type": "stream",
          "text": [
            "/content/gdrive/My Drive/dscamp2\n"
          ],
          "name": "stdout"
        }
      ]
    },
    {
      "cell_type": "code",
      "metadata": {
        "id": "pYTiIVyhdKWk",
        "colab_type": "code",
        "colab": {
          "base_uri": "https://localhost:8080/",
          "height": 34
        },
        "outputId": "7388f870-3c05-4859-9ac8-465117666a1d"
      },
      "source": [
        "ls dscamp_public/'NLP 2'/Essay_Writing/"
      ],
      "execution_count": 12,
      "outputs": [
        {
          "output_type": "stream",
          "text": [
            "AI_EssayWriting.ipynb  \u001b[0m\u001b[01;34mcodes\u001b[0m/  \u001b[01;34mdatasets\u001b[0m/  readme.md\n"
          ],
          "name": "stdout"
        }
      ]
    },
    {
      "cell_type": "code",
      "metadata": {
        "colab_type": "code",
        "id": "JZTbCPYfawrS",
        "colab": {}
      },
      "source": [
        "#codepath = os.path.join(nb_path, 'codes')\n",
        "codepath = os.path.join(os.getcwd(), 'dscamp_public/NLP 2/Essay_Writing/codes')\n",
        "sys.path.append(codepath)"
      ],
      "execution_count": 0,
      "outputs": []
    },
    {
      "cell_type": "markdown",
      "metadata": {
        "id": "gyRWbwvXZfAQ",
        "colab_type": "text"
      },
      "source": [
        "### Install libraries"
      ]
    },
    {
      "cell_type": "code",
      "metadata": {
        "colab_type": "code",
        "id": "YeJYI6JX9lMm",
        "outputId": "99937870-cf27-4ae0-8090-ff0e5749dd79",
        "colab": {
          "base_uri": "https://localhost:8080/",
          "height": 581
        }
      },
      "source": [
        "!pip install transformers"
      ],
      "execution_count": 14,
      "outputs": [
        {
          "output_type": "stream",
          "text": [
            "Collecting transformers\n",
            "\u001b[?25l  Downloading https://files.pythonhosted.org/packages/12/b5/ac41e3e95205ebf53439e4dd087c58e9fd371fd8e3724f2b9b4cdb8282e5/transformers-2.10.0-py3-none-any.whl (660kB)\n",
            "\r\u001b[K     |▌                               | 10kB 29.4MB/s eta 0:00:01\r\u001b[K     |█                               | 20kB 2.9MB/s eta 0:00:01\r\u001b[K     |█▌                              | 30kB 3.8MB/s eta 0:00:01\r\u001b[K     |██                              | 40kB 4.3MB/s eta 0:00:01\r\u001b[K     |██▌                             | 51kB 3.5MB/s eta 0:00:01\r\u001b[K     |███                             | 61kB 3.9MB/s eta 0:00:01\r\u001b[K     |███▌                            | 71kB 4.2MB/s eta 0:00:01\r\u001b[K     |████                            | 81kB 4.5MB/s eta 0:00:01\r\u001b[K     |████▌                           | 92kB 4.9MB/s eta 0:00:01\r\u001b[K     |█████                           | 102kB 4.5MB/s eta 0:00:01\r\u001b[K     |█████▌                          | 112kB 4.5MB/s eta 0:00:01\r\u001b[K     |██████                          | 122kB 4.5MB/s eta 0:00:01\r\u001b[K     |██████▌                         | 133kB 4.5MB/s eta 0:00:01\r\u001b[K     |███████                         | 143kB 4.5MB/s eta 0:00:01\r\u001b[K     |███████▌                        | 153kB 4.5MB/s eta 0:00:01\r\u001b[K     |████████                        | 163kB 4.5MB/s eta 0:00:01\r\u001b[K     |████████▍                       | 174kB 4.5MB/s eta 0:00:01\r\u001b[K     |█████████                       | 184kB 4.5MB/s eta 0:00:01\r\u001b[K     |█████████▍                      | 194kB 4.5MB/s eta 0:00:01\r\u001b[K     |██████████                      | 204kB 4.5MB/s eta 0:00:01\r\u001b[K     |██████████▍                     | 215kB 4.5MB/s eta 0:00:01\r\u001b[K     |███████████                     | 225kB 4.5MB/s eta 0:00:01\r\u001b[K     |███████████▍                    | 235kB 4.5MB/s eta 0:00:01\r\u001b[K     |████████████                    | 245kB 4.5MB/s eta 0:00:01\r\u001b[K     |████████████▍                   | 256kB 4.5MB/s eta 0:00:01\r\u001b[K     |█████████████                   | 266kB 4.5MB/s eta 0:00:01\r\u001b[K     |█████████████▍                  | 276kB 4.5MB/s eta 0:00:01\r\u001b[K     |██████████████                  | 286kB 4.5MB/s eta 0:00:01\r\u001b[K     |██████████████▍                 | 296kB 4.5MB/s eta 0:00:01\r\u001b[K     |███████████████                 | 307kB 4.5MB/s eta 0:00:01\r\u001b[K     |███████████████▍                | 317kB 4.5MB/s eta 0:00:01\r\u001b[K     |███████████████▉                | 327kB 4.5MB/s eta 0:00:01\r\u001b[K     |████████████████▍               | 337kB 4.5MB/s eta 0:00:01\r\u001b[K     |████████████████▉               | 348kB 4.5MB/s eta 0:00:01\r\u001b[K     |█████████████████▍              | 358kB 4.5MB/s eta 0:00:01\r\u001b[K     |█████████████████▉              | 368kB 4.5MB/s eta 0:00:01\r\u001b[K     |██████████████████▍             | 378kB 4.5MB/s eta 0:00:01\r\u001b[K     |██████████████████▉             | 389kB 4.5MB/s eta 0:00:01\r\u001b[K     |███████████████████▍            | 399kB 4.5MB/s eta 0:00:01\r\u001b[K     |███████████████████▉            | 409kB 4.5MB/s eta 0:00:01\r\u001b[K     |████████████████████▍           | 419kB 4.5MB/s eta 0:00:01\r\u001b[K     |████████████████████▉           | 430kB 4.5MB/s eta 0:00:01\r\u001b[K     |█████████████████████▍          | 440kB 4.5MB/s eta 0:00:01\r\u001b[K     |█████████████████████▉          | 450kB 4.5MB/s eta 0:00:01\r\u001b[K     |██████████████████████▍         | 460kB 4.5MB/s eta 0:00:01\r\u001b[K     |██████████████████████▉         | 471kB 4.5MB/s eta 0:00:01\r\u001b[K     |███████████████████████▎        | 481kB 4.5MB/s eta 0:00:01\r\u001b[K     |███████████████████████▉        | 491kB 4.5MB/s eta 0:00:01\r\u001b[K     |████████████████████████▎       | 501kB 4.5MB/s eta 0:00:01\r\u001b[K     |████████████████████████▉       | 512kB 4.5MB/s eta 0:00:01\r\u001b[K     |█████████████████████████▎      | 522kB 4.5MB/s eta 0:00:01\r\u001b[K     |█████████████████████████▉      | 532kB 4.5MB/s eta 0:00:01\r\u001b[K     |██████████████████████████▎     | 542kB 4.5MB/s eta 0:00:01\r\u001b[K     |██████████████████████████▉     | 552kB 4.5MB/s eta 0:00:01\r\u001b[K     |███████████████████████████▎    | 563kB 4.5MB/s eta 0:00:01\r\u001b[K     |███████████████████████████▉    | 573kB 4.5MB/s eta 0:00:01\r\u001b[K     |████████████████████████████▎   | 583kB 4.5MB/s eta 0:00:01\r\u001b[K     |████████████████████████████▉   | 593kB 4.5MB/s eta 0:00:01\r\u001b[K     |█████████████████████████████▎  | 604kB 4.5MB/s eta 0:00:01\r\u001b[K     |█████████████████████████████▉  | 614kB 4.5MB/s eta 0:00:01\r\u001b[K     |██████████████████████████████▎ | 624kB 4.5MB/s eta 0:00:01\r\u001b[K     |██████████████████████████████▊ | 634kB 4.5MB/s eta 0:00:01\r\u001b[K     |███████████████████████████████▎| 645kB 4.5MB/s eta 0:00:01\r\u001b[K     |███████████████████████████████▊| 655kB 4.5MB/s eta 0:00:01\r\u001b[K     |████████████████████████████████| 665kB 4.5MB/s \n",
            "\u001b[?25hRequirement already satisfied: tqdm>=4.27 in /usr/local/lib/python3.6/dist-packages (from transformers) (4.41.1)\n",
            "Collecting sacremoses\n",
            "\u001b[?25l  Downloading https://files.pythonhosted.org/packages/7d/34/09d19aff26edcc8eb2a01bed8e98f13a1537005d31e95233fd48216eed10/sacremoses-0.0.43.tar.gz (883kB)\n",
            "\u001b[K     |████████████████████████████████| 890kB 24.2MB/s \n",
            "\u001b[?25hRequirement already satisfied: requests in /usr/local/lib/python3.6/dist-packages (from transformers) (2.23.0)\n",
            "Requirement already satisfied: dataclasses; python_version < \"3.7\" in /usr/local/lib/python3.6/dist-packages (from transformers) (0.7)\n",
            "Collecting sentencepiece\n",
            "\u001b[?25l  Downloading https://files.pythonhosted.org/packages/d4/a4/d0a884c4300004a78cca907a6ff9a5e9fe4f090f5d95ab341c53d28cbc58/sentencepiece-0.1.91-cp36-cp36m-manylinux1_x86_64.whl (1.1MB)\n",
            "\u001b[K     |████████████████████████████████| 1.1MB 36.0MB/s \n",
            "\u001b[?25hRequirement already satisfied: filelock in /usr/local/lib/python3.6/dist-packages (from transformers) (3.0.12)\n",
            "Requirement already satisfied: numpy in /usr/local/lib/python3.6/dist-packages (from transformers) (1.18.4)\n",
            "Collecting tokenizers==0.7.0\n",
            "\u001b[?25l  Downloading https://files.pythonhosted.org/packages/14/e5/a26eb4716523808bb0a799fcfdceb6ebf77a18169d9591b2f46a9adb87d9/tokenizers-0.7.0-cp36-cp36m-manylinux1_x86_64.whl (3.8MB)\n",
            "\u001b[K     |████████████████████████████████| 3.8MB 40.1MB/s \n",
            "\u001b[?25hRequirement already satisfied: regex!=2019.12.17 in /usr/local/lib/python3.6/dist-packages (from transformers) (2019.12.20)\n",
            "Requirement already satisfied: six in /usr/local/lib/python3.6/dist-packages (from sacremoses->transformers) (1.12.0)\n",
            "Requirement already satisfied: click in /usr/local/lib/python3.6/dist-packages (from sacremoses->transformers) (7.1.2)\n",
            "Requirement already satisfied: joblib in /usr/local/lib/python3.6/dist-packages (from sacremoses->transformers) (0.15.1)\n",
            "Requirement already satisfied: idna<3,>=2.5 in /usr/local/lib/python3.6/dist-packages (from requests->transformers) (2.9)\n",
            "Requirement already satisfied: chardet<4,>=3.0.2 in /usr/local/lib/python3.6/dist-packages (from requests->transformers) (3.0.4)\n",
            "Requirement already satisfied: urllib3!=1.25.0,!=1.25.1,<1.26,>=1.21.1 in /usr/local/lib/python3.6/dist-packages (from requests->transformers) (1.24.3)\n",
            "Requirement already satisfied: certifi>=2017.4.17 in /usr/local/lib/python3.6/dist-packages (from requests->transformers) (2020.4.5.1)\n",
            "Building wheels for collected packages: sacremoses\n",
            "  Building wheel for sacremoses (setup.py) ... \u001b[?25l\u001b[?25hdone\n",
            "  Created wheel for sacremoses: filename=sacremoses-0.0.43-cp36-none-any.whl size=893260 sha256=f2b21e7a1b74e52e0dbf539ce845fa235c548a934200896d2f9225f86804e4f8\n",
            "  Stored in directory: /root/.cache/pip/wheels/29/3c/fd/7ce5c3f0666dab31a50123635e6fb5e19ceb42ce38d4e58f45\n",
            "Successfully built sacremoses\n",
            "Installing collected packages: sacremoses, sentencepiece, tokenizers, transformers\n",
            "Successfully installed sacremoses-0.0.43 sentencepiece-0.1.91 tokenizers-0.7.0 transformers-2.10.0\n"
          ],
          "name": "stdout"
        }
      ]
    },
    {
      "cell_type": "markdown",
      "metadata": {
        "id": "nqt4P41rZfAW",
        "colab_type": "text"
      },
      "source": [
        "### GPU\n",
        "Colaboratory uses either a Nvidia T4 GPU or an Nvidia K80 GPU. The T4 is slightly faster than the old K80 for training GPT-2, and has more memory allowing you to train the larger GPT-2 models and generate more text.\n",
        "\n",
        "You can verify which GPU is active by running the cell below."
      ]
    },
    {
      "cell_type": "code",
      "metadata": {
        "colab_type": "code",
        "id": "zc6XoVO1H2bf",
        "colab": {}
      },
      "source": [
        "import numpy as np\n",
        "import torch\n",
        "from transformers import GPT2Tokenizer, GPT2LMHeadModel"
      ],
      "execution_count": 0,
      "outputs": []
    },
    {
      "cell_type": "code",
      "metadata": {
        "colab_type": "code",
        "id": "Y6ddBD2hCpWH",
        "colab": {}
      },
      "source": [
        "MAX_LENGTH = int(10000)"
      ],
      "execution_count": 0,
      "outputs": []
    },
    {
      "cell_type": "code",
      "metadata": {
        "colab_type": "code",
        "id": "7FhZQtG6EBzf",
        "colab": {}
      },
      "source": [
        "def set_seed(seed):\n",
        "    np.random.seed(seed)\n",
        "    torch.manual_seed(seed)\n",
        "    if args.n_gpu > 0:\n",
        "        torch.cuda.manual_seed_all(seed)"
      ],
      "execution_count": 0,
      "outputs": []
    },
    {
      "cell_type": "code",
      "metadata": {
        "colab_type": "code",
        "id": "mIlOSvALEh7L",
        "colab": {}
      },
      "source": [
        "from main import GenerateSentence "
      ],
      "execution_count": 0,
      "outputs": []
    },
    {
      "cell_type": "markdown",
      "metadata": {
        "id": "pE-bQ0bXZfAs",
        "colab_type": "text"
      },
      "source": [
        "## Loading machine learning model\n",
        "This machine learning model is trained on a very large corpus of ~40 GB of text data. The largest model size is huge with 1.5 billion parameters, trained on a dataset of **8 million** web pages."
      ]
    },
    {
      "cell_type": "code",
      "metadata": {
        "colab_type": "code",
        "id": "Y-gZ9aWEWVxU",
        "colab": {
          "base_uri": "https://localhost:8080/",
          "height": 34
        },
        "outputId": "a58f007f-998d-4055-e4c5-3b34507aa094"
      },
      "source": [
        "generate_sentence = GenerateSentence(dataset_path='dscamp_public/NLP 2/Essay_Writing/datasets')"
      ],
      "execution_count": 23,
      "outputs": [
        {
          "output_type": "stream",
          "text": [
            "'Language Generator loaded successfully....'\n"
          ],
          "name": "stdout"
        }
      ]
    },
    {
      "cell_type": "code",
      "metadata": {
        "id": "QB0qOyrpfKXT",
        "colab_type": "code",
        "colab": {
          "base_uri": "https://localhost:8080/",
          "height": 68
        },
        "outputId": "6a6eab8a-e85e-4c45-ed92-53c253e68d58"
      },
      "source": [
        "import nltk\n",
        "nltk.download('punkt')"
      ],
      "execution_count": 25,
      "outputs": [
        {
          "output_type": "stream",
          "text": [
            "[nltk_data] Downloading package punkt to /root/nltk_data...\n",
            "[nltk_data]   Unzipping tokenizers/punkt.zip.\n"
          ],
          "name": "stdout"
        },
        {
          "output_type": "execute_result",
          "data": {
            "text/plain": [
              "True"
            ]
          },
          "metadata": {
            "tags": []
          },
          "execution_count": 25
        }
      ]
    },
    {
      "cell_type": "markdown",
      "metadata": {
        "id": "V6qn2gDGZfA7",
        "colab_type": "text"
      },
      "source": [
        "## Train model on specific topics for free on Google Colab GPUs\n",
        "Option to provide your own datasets is also available.\n",
        "The defaults topics to choose from:\n",
        "\n",
        "1. Artificial intelligence\n",
        "2. Machine learning\n",
        "3. History of United States\n",
        "\n",
        "More topics will be added...."
      ]
    },
    {
      "cell_type": "code",
      "metadata": {
        "id": "2gUu0Xu2ZfA8",
        "colab_type": "code",
        "colab": {
          "base_uri": "https://localhost:8080/",
          "height": 66,
          "referenced_widgets": [
            "d687a69107034647879187c2dca24955",
            "edce200e060c4012a50e65149e51fec2",
            "206a1144dcdf469ca4ba018a2357bf45",
            "f44c23f5e212453ab189e77408752f63",
            "c535330d49ca4605b5900c730d0d5ae7",
            "53e9f88ea31746dcaf552c061e14a6c5",
            "eff6317fde794b0e8330d737f4862275",
            "262b8943ab55411684a7cde5fb4accb3"
          ]
        },
        "outputId": "45894df7-8cf6-45de-8c43-442632c1a0cd"
      },
      "source": [
        "generate_sentence.train_on_topics('ai')"
      ],
      "execution_count": 28,
      "outputs": [
        {
          "output_type": "display_data",
          "data": {
            "application/vnd.jupyter.widget-view+json": {
              "model_id": "d687a69107034647879187c2dca24955",
              "version_minor": 0,
              "version_major": 2
            },
            "text/plain": [
              "HBox(children=(FloatProgress(value=0.0, max=3.0), HTML(value='')))"
            ]
          },
          "metadata": {
            "tags": []
          }
        },
        {
          "output_type": "stream",
          "text": [
            "\n"
          ],
          "name": "stdout"
        }
      ]
    },
    {
      "cell_type": "markdown",
      "metadata": {
        "id": "7HHsKPZuZfBC",
        "colab_type": "text"
      },
      "source": [
        "## Start Writing Essays\n",
        "\n",
        "At each step five options will be provided\n",
        "\n",
        "* A -> AI option\n",
        "* B -> AI option\n",
        "* C -> AI option\n",
        "* D -> User can choose to add sentences\n",
        "* E -> STOP the writing process"
      ]
    },
    {
      "cell_type": "code",
      "metadata": {
        "colab_type": "code",
        "id": "4gahZk7pIXME",
        "outputId": "e79f18e5-cc0a-45c6-d77a-937586ccbd0d",
        "colab": {
          "base_uri": "https://localhost:8080/",
          "height": 34
        }
      },
      "source": [
        "generate_sentence.start_writing()"
      ],
      "execution_count": 30,
      "outputs": [
        {
          "output_type": "stream",
          "text": [
            "Write the first sentence >>> Artificial intelligence plays an important role in modern world.\n"
          ],
          "name": "stdout"
        }
      ]
    },
    {
      "cell_type": "code",
      "metadata": {
        "id": "z-Qn7NRlggFx",
        "colab_type": "code",
        "colab": {
          "base_uri": "https://localhost:8080/",
          "height": 1000
        },
        "outputId": "32495336-bce8-4980-b9bc-4a691dcc6a5c"
      },
      "source": [
        "generate_sentence.generate_sentences()"
      ],
      "execution_count": 34,
      "outputs": [
        {
          "output_type": "display_data",
          "data": {
            "text/html": [
              "\n",
              "  <style>\n",
              "    pre {\n",
              "        white-space: pre-wrap;\n",
              "    }\n",
              "  </style>\n",
              "  "
            ],
            "text/plain": [
              "<IPython.core.display.HTML object>"
            ]
          },
          "metadata": {
            "tags": []
          }
        },
        {
          "output_type": "display_data",
          "data": {
            "text/html": [
              "\n",
              "  <style>\n",
              "    pre {\n",
              "        white-space: pre-wrap;\n",
              "    }\n",
              "  </style>\n",
              "  "
            ],
            "text/plain": [
              "<IPython.core.display.HTML object>"
            ]
          },
          "metadata": {
            "tags": []
          }
        },
        {
          "output_type": "stream",
          "text": [
            "::::YOURS OPTIONS ARE :::\n",
            "A. --> \n",
            "\n",
            "B. --> \n",
            "\n",
            "C. -->  It's a great way to learn and understand what is going on around the globe, how people are doing things that they don't normally do or can never be done before,\" says Dr.\n",
            "\n",
            "D. --> Write your own sentences\n",
            "E. --> STOP ESSAY WRITING\n",
            "{'A': 'Artificial intelligence plays an important role in modern world.', 'B': 'Artificial intelligence plays an important role in modern world.', 'C': 'Artificial intelligence plays an important role in modern world. It\\'s a great way to learn and understand what is going on around the globe, how people are doing things that they don\\'t normally do or can never be done before,\" says Dr.'}\n",
            "Choose your option >>> B\n",
            " \n",
            " \n",
            " \n",
            " ****** ESSAY TILL THIS POINT *******\n",
            "Artificial intelligence plays an important role in modern world. \n",
            "\n",
            "\n",
            "\n",
            "::::YOURS OPTIONS ARE :::\n",
            "A. --> \n",
            "\n",
            "B. --> \n",
            "\n",
            "C. --> \n",
            "\n",
            "D. --> Write your own sentences\n",
            "E. --> STOP ESSAY WRITING\n",
            "{'A': 'Artificial intelligence plays an important role in modern world.', 'B': 'Artificial intelligence plays an important role in modern world.', 'C': 'Artificial intelligence plays an important role in modern world.'}\n",
            "Choose your option >>> It has improved the the entertainment industry substantially.\n",
            "Please enter a valid option \n",
            "Choose your option >>> D\n",
            "Insert your own sentence >>> It has improved the the entertainment industry substantially.\n",
            " \n",
            " \n",
            " \n",
            " ****** ESSAY TILL THIS POINT *******\n",
            "Artificial intelligence plays an important role in modern world. It has improved the the entertainment industry substantially. \n",
            "\n",
            "\n",
            "\n",
            "::::YOURS OPTIONS ARE :::\n",
            "A. --> \n",
            "\n",
            "B. --> \n",
            "\n",
            "C. -->  The technology of this kind is not available to other countries, and it can only be used by a country with its own resources.\"\n",
            "The report says that \"the development efforts have been very successful\".\n",
            "\n",
            "D. --> Write your own sentences\n",
            "E. --> STOP ESSAY WRITING\n",
            "{'A': 'Artificial intelligence plays an important role in modern world. It has improved the the entertainment industry substantially.', 'B': 'Artificial intelligence plays an important role in modern world. It has improved the the entertainment industry substantially.', 'C': 'Artificial intelligence plays an important role in modern world. It has improved the the entertainment industry substantially. The technology of this kind is not available to other countries, and it can only be used by a country with its own resources.\"\\nThe report says that \"the development efforts have been very successful\".'}\n",
            "Choose your option >>> C\n",
            " \n",
            " \n",
            " \n",
            " ****** ESSAY TILL THIS POINT *******\n",
            "Artificial intelligence plays an important role in modern world. It has improved the the entertainment industry substantially. The technology of this kind is not available to other countries, and it can only be used by a country with its own resources.\" The report says that \"the development efforts have been very successful\". \n",
            "\n",
            "\n",
            "\n",
            "::::YOURS OPTIONS ARE :::\n",
            "A. --> \n",
            "The study was published on Monday (March 12).\n",
            "\n",
            "B. --> \n",
            "\n",
            "C. --> \n",
            "\n",
            "D. --> Write your own sentences\n",
            "E. --> STOP ESSAY WRITING\n",
            "{'A': 'Artificial intelligence plays an important role in modern world. It has improved the the entertainment industry substantially. The technology of this kind is not available to other countries, and it can only be used by a country with its own resources.\" The report says that \"the development efforts have been very successful\".\\nThe study was published on Monday (March 12).', 'B': 'Artificial intelligence plays an important role in modern world. It has improved the the entertainment industry substantially. The technology of this kind is not available to other countries, and it can only be used by a country with its own resources.\" The report says that \"the development efforts have been very successful\".', 'C': 'Artificial intelligence plays an important role in modern world. It has improved the the entertainment industry substantially. The technology of this kind is not available to other countries, and it can only be used by a country with its own resources.\" The report says that \"the development efforts have been very successful\".'}\n",
            "Choose your option >>> C\n",
            " \n",
            " \n",
            " \n",
            " ****** ESSAY TILL THIS POINT *******\n",
            "Artificial intelligence plays an important role in modern world. It has improved the the entertainment industry substantially. The technology of this kind is not available to other countries, and it can only be used by a country with its own resources.\" The report says that \"the development efforts have been very successful\". \n",
            "\n",
            "\n",
            "\n",
            "::::YOURS OPTIONS ARE :::\n",
            "A. --> \n",
            "The government's goal for all these years was: To develop artificial intelligent systems which will enable people would become smarter than humans at some day (in fact they are already doing so).\n",
            "\n",
            "B. --> \n",
            "\n",
            "C. --> \n",
            "\n",
            "D. --> Write your own sentences\n",
            "E. --> STOP ESSAY WRITING\n",
            "{'A': 'Artificial intelligence plays an important role in modern world. It has improved the the entertainment industry substantially. The technology of this kind is not available to other countries, and it can only be used by a country with its own resources.\" The report says that \"the development efforts have been very successful\".\\nThe government\\'s goal for all these years was: To develop artificial intelligent systems which will enable people would become smarter than humans at some day (in fact they are already doing so).', 'B': 'Artificial intelligence plays an important role in modern world. It has improved the the entertainment industry substantially. The technology of this kind is not available to other countries, and it can only be used by a country with its own resources.\" The report says that \"the development efforts have been very successful\".', 'C': 'Artificial intelligence plays an important role in modern world. It has improved the the entertainment industry substantially. The technology of this kind is not available to other countries, and it can only be used by a country with its own resources.\" The report says that \"the development efforts have been very successful\".'}\n",
            "Choose your option >>> A\n",
            " \n",
            " \n",
            " \n",
            " ****** ESSAY TILL THIS POINT *******\n",
            "Artificial intelligence plays an important role in modern world. It has improved the the entertainment industry substantially. The technology of this kind is not available to other countries, and it can only be used by a country with its own resources.\" The report says that \"the development efforts have been very successful\". The government's goal for all these years was: To develop artificial intelligent systems which will enable people would become smarter than humans at some day (in fact they are already doing so). \n",
            "\n",
            "\n",
            "\n",
            "::::YOURS OPTIONS ARE :::\n",
            "A. --> \n",
            "\n",
            "B. --> \n",
            "\n",
            "C. --> \n",
            "The research shows how much more advanced we could learn from our past experience as well as what might happen if you do something like change your life or make changes on purpose.\n",
            "\n",
            "D. --> Write your own sentences\n",
            "E. --> STOP ESSAY WRITING\n",
            "{'A': 'Artificial intelligence plays an important role in modern world. It has improved the the entertainment industry substantially. The technology of this kind is not available to other countries, and it can only be used by a country with its own resources.\" The report says that \"the development efforts have been very successful\". The government\\'s goal for all these years was: To develop artificial intelligent systems which will enable people would become smarter than humans at some day (in fact they are already doing so).', 'B': 'Artificial intelligence plays an important role in modern world. It has improved the the entertainment industry substantially. The technology of this kind is not available to other countries, and it can only be used by a country with its own resources.\" The report says that \"the development efforts have been very successful\". The government\\'s goal for all these years was: To develop artificial intelligent systems which will enable people would become smarter than humans at some day (in fact they are already doing so).', 'C': 'Artificial intelligence plays an important role in modern world. It has improved the the entertainment industry substantially. The technology of this kind is not available to other countries, and it can only be used by a country with its own resources.\" The report says that \"the development efforts have been very successful\". The government\\'s goal for all these years was: To develop artificial intelligent systems which will enable people would become smarter than humans at some day (in fact they are already doing so).\\nThe research shows how much more advanced we could learn from our past experience as well as what might happen if you do something like change your life or make changes on purpose.'}\n",
            "Choose your option >>> A\n",
            " \n",
            " \n",
            " \n",
            " ****** ESSAY TILL THIS POINT *******\n",
            "Artificial intelligence plays an important role in modern world. It has improved the the entertainment industry substantially. The technology of this kind is not available to other countries, and it can only be used by a country with its own resources.\" The report says that \"the development efforts have been very successful\". The government's goal for all these years was: To develop artificial intelligent systems which will enable people would become smarter than humans at some day (in fact they are already doing so). \n",
            "\n",
            "\n",
            "\n",
            "::::YOURS OPTIONS ARE :::\n",
            "A. -->  This could lead them towards becoming more human beings as well!\n",
            "The AI research team also said there were many problems related both technical issues suchas lack data on how computers work but still need information about their capabilities etc..\n",
            "\n",
            "B. --> \n",
            "\n",
            "C. --> \n",
            "The study also shows how many different types were created on Earth - or from another planet where there could exist themselves; what kinds had evolved over time but did nothing about their way out ; etc.\n",
            "\n",
            "D. --> Write your own sentences\n",
            "E. --> STOP ESSAY WRITING\n",
            "{'A': 'Artificial intelligence plays an important role in modern world. It has improved the the entertainment industry substantially. The technology of this kind is not available to other countries, and it can only be used by a country with its own resources.\" The report says that \"the development efforts have been very successful\". The government\\'s goal for all these years was: To develop artificial intelligent systems which will enable people would become smarter than humans at some day (in fact they are already doing so). This could lead them towards becoming more human beings as well!\\nThe AI research team also said there were many problems related both technical issues suchas lack data on how computers work but still need information about their capabilities etc..', 'B': 'Artificial intelligence plays an important role in modern world. It has improved the the entertainment industry substantially. The technology of this kind is not available to other countries, and it can only be used by a country with its own resources.\" The report says that \"the development efforts have been very successful\". The government\\'s goal for all these years was: To develop artificial intelligent systems which will enable people would become smarter than humans at some day (in fact they are already doing so).', 'C': 'Artificial intelligence plays an important role in modern world. It has improved the the entertainment industry substantially. The technology of this kind is not available to other countries, and it can only be used by a country with its own resources.\" The report says that \"the development efforts have been very successful\". The government\\'s goal for all these years was: To develop artificial intelligent systems which will enable people would become smarter than humans at some day (in fact they are already doing so).\\nThe study also shows how many different types were created on Earth - or from another planet where there could exist themselves; what kinds had evolved over time but did nothing about their way out ; etc.'}\n",
            "Choose your option >>> E\n",
            "\n",
            "\n",
            "================  COMPLETE ESSAY  ======================\n",
            "Artificial intelligence plays an important role in modern world. It has improved the the entertainment industry substantially. The technology of this kind is not available to other countries, and it can only be used by a country with its own resources.\" The report says that \"the development efforts have been very successful\". The government's goal for all these years was: To develop artificial intelligent systems which will enable people would become smarter than humans at some day (in fact they are already doing so).\n"
          ],
          "name": "stdout"
        }
      ]
    },
    {
      "cell_type": "code",
      "metadata": {
        "id": "PmyPsZLKkPGP",
        "colab_type": "code",
        "colab": {
          "base_uri": "https://localhost:8080/",
          "height": 34
        },
        "outputId": "60498e81-365c-40f4-99de-afc35139cdd8"
      },
      "source": [
        "generate_sentence = GenerateSentence(dataset_path='dscamp_public/NLP 2/Essay_Writing/datasets')"
      ],
      "execution_count": 37,
      "outputs": [
        {
          "output_type": "display_data",
          "data": {
            "text/html": [
              "\n",
              "  <style>\n",
              "    pre {\n",
              "        white-space: pre-wrap;\n",
              "    }\n",
              "  </style>\n",
              "  "
            ],
            "text/plain": [
              "<IPython.core.display.HTML object>"
            ]
          },
          "metadata": {
            "tags": []
          }
        },
        {
          "output_type": "display_data",
          "data": {
            "text/html": [
              "\n",
              "  <style>\n",
              "    pre {\n",
              "        white-space: pre-wrap;\n",
              "    }\n",
              "  </style>\n",
              "  "
            ],
            "text/plain": [
              "<IPython.core.display.HTML object>"
            ]
          },
          "metadata": {
            "tags": []
          }
        },
        {
          "output_type": "stream",
          "text": [
            "'Language Generator loaded successfully....'\n"
          ],
          "name": "stdout"
        }
      ]
    },
    {
      "cell_type": "code",
      "metadata": {
        "id": "bvHWhOH9j06i",
        "colab_type": "code",
        "colab": {
          "base_uri": "https://localhost:8080/",
          "height": 66,
          "referenced_widgets": [
            "d1a677c31a544378a24b1c51d44d6da1",
            "140bd9a32bdf4f6abd39c30f62e54e9c",
            "2614e958fd3a4ed598f7cefa01dabcec",
            "bc883fd3118e4b5084fc45acdcefdcf7",
            "91dcc55eae5e4c28ae261e840e70e06d",
            "5fc7d1d888344d49907bf84f45dbfc1d",
            "30e5ee31d23a4e5e9b6e2d696a6b3f52",
            "c85d7c7d6d8847bc875ee1b37a771a91"
          ]
        },
        "outputId": "3047bdf0-5cd6-4e14-aa1f-b31a7f51389d"
      },
      "source": [
        "generate_sentence.train_on_topics('history')"
      ],
      "execution_count": 38,
      "outputs": [
        {
          "output_type": "display_data",
          "data": {
            "text/html": [
              "\n",
              "  <style>\n",
              "    pre {\n",
              "        white-space: pre-wrap;\n",
              "    }\n",
              "  </style>\n",
              "  "
            ],
            "text/plain": [
              "<IPython.core.display.HTML object>"
            ]
          },
          "metadata": {
            "tags": []
          }
        },
        {
          "output_type": "display_data",
          "data": {
            "text/html": [
              "\n",
              "  <style>\n",
              "    pre {\n",
              "        white-space: pre-wrap;\n",
              "    }\n",
              "  </style>\n",
              "  "
            ],
            "text/plain": [
              "<IPython.core.display.HTML object>"
            ]
          },
          "metadata": {
            "tags": []
          }
        },
        {
          "output_type": "display_data",
          "data": {
            "application/vnd.jupyter.widget-view+json": {
              "model_id": "d1a677c31a544378a24b1c51d44d6da1",
              "version_minor": 0,
              "version_major": 2
            },
            "text/plain": [
              "HBox(children=(FloatProgress(value=0.0, max=7.0), HTML(value='')))"
            ]
          },
          "metadata": {
            "tags": []
          }
        },
        {
          "output_type": "stream",
          "text": [
            "\n"
          ],
          "name": "stdout"
        }
      ]
    },
    {
      "cell_type": "code",
      "metadata": {
        "id": "ATDdNBA8kqmJ",
        "colab_type": "code",
        "colab": {
          "base_uri": "https://localhost:8080/",
          "height": 34
        },
        "outputId": "b26d27b2-3708-49e9-b718-386745885621"
      },
      "source": [
        "generate_sentence.start_writing()"
      ],
      "execution_count": 40,
      "outputs": [
        {
          "output_type": "display_data",
          "data": {
            "text/html": [
              "\n",
              "  <style>\n",
              "    pre {\n",
              "        white-space: pre-wrap;\n",
              "    }\n",
              "  </style>\n",
              "  "
            ],
            "text/plain": [
              "<IPython.core.display.HTML object>"
            ]
          },
          "metadata": {
            "tags": []
          }
        },
        {
          "output_type": "display_data",
          "data": {
            "text/html": [
              "\n",
              "  <style>\n",
              "    pre {\n",
              "        white-space: pre-wrap;\n",
              "    }\n",
              "  </style>\n",
              "  "
            ],
            "text/plain": [
              "<IPython.core.display.HTML object>"
            ]
          },
          "metadata": {
            "tags": []
          }
        },
        {
          "output_type": "stream",
          "text": [
            "Write the first sentence >>> George Washington is an important figure in American history.\n"
          ],
          "name": "stdout"
        }
      ]
    },
    {
      "cell_type": "code",
      "metadata": {
        "id": "hTr8KzUMj9Q1",
        "colab_type": "code",
        "colab": {
          "base_uri": "https://localhost:8080/",
          "height": 1000
        },
        "outputId": "918d8777-b03b-413d-cd23-55980b965a26"
      },
      "source": [
        "generate_sentence.generate_sentences()"
      ],
      "execution_count": 41,
      "outputs": [
        {
          "output_type": "display_data",
          "data": {
            "text/html": [
              "\n",
              "  <style>\n",
              "    pre {\n",
              "        white-space: pre-wrap;\n",
              "    }\n",
              "  </style>\n",
              "  "
            ],
            "text/plain": [
              "<IPython.core.display.HTML object>"
            ]
          },
          "metadata": {
            "tags": []
          }
        },
        {
          "output_type": "display_data",
          "data": {
            "text/html": [
              "\n",
              "  <style>\n",
              "    pre {\n",
              "        white-space: pre-wrap;\n",
              "    }\n",
              "  </style>\n",
              "  "
            ],
            "text/plain": [
              "<IPython.core.display.HTML object>"
            ]
          },
          "metadata": {
            "tags": []
          }
        },
        {
          "output_type": "stream",
          "text": [
            "::::YOURS OPTIONS ARE :::\n",
            "A. -->  He was a member of theocratic and anti-Catholic Church, he served as president for many times before being elected to Congress but never once ran against it again.\n",
            "\n",
            "B. --> \n",
            "The first president of the United States was born on March 6, 1776 and died at age 85 (18 years old).\n",
            "\n",
            "C. -->  He was born on April 1, 1876 at the home of his mother and father who died when he had a heart attack during World War II\n",
            "The first lady's name came from her husband George W.\n",
            "\n",
            "D. --> Write your own sentences\n",
            "E. --> STOP ESSAY WRITING\n",
            "{'A': 'George Washington is an important figure in American history. He was a member of theocratic and anti-Catholic Church, he served as president for many times before being elected to Congress but never once ran against it again.', 'B': 'George Washington is an important figure in American history.\\nThe first president of the United States was born on March 6, 1776 and died at age 85 (18 years old).', 'C': \"George Washington is an important figure in American history. He was born on April 1, 1876 at the home of his mother and father who died when he had a heart attack during World War II\\nThe first lady's name came from her husband George W.\"}\n",
            "Choose your option >>> A\n",
            " \n",
            " \n",
            " \n",
            " ****** ESSAY TILL THIS POINT *******\n",
            "George Washington is an important figure in American history. He was a member of theocratic and anti-Catholic Church, he served as president for many times before being elected to Congress but never once ran against it again. \n",
            "\n",
            "\n",
            "\n",
            "::::YOURS OPTIONS ARE :::\n",
            "A. --> \n",
            "\n",
            "B. --> \n",
            "\n",
            "C. --> \n",
            "\n",
            "D. --> Write your own sentences\n",
            "E. --> STOP ESSAY WRITING\n",
            "{'A': 'George Washington is an important figure in American history. He was a member of theocratic and anti-Catholic Church, he served as president for many times before being elected to Congress but never once ran against it again.', 'B': 'George Washington is an important figure in American history. He was a member of theocratic and anti-Catholic Church, he served as president for many times before being elected to Congress but never once ran against it again.', 'C': 'George Washington is an important figure in American history. He was a member of theocratic and anti-Catholic Church, he served as president for many times before being elected to Congress but never once ran against it again.'}\n",
            "Choose your option >>> A\n",
            " \n",
            " \n",
            " \n",
            " ****** ESSAY TILL THIS POINT *******\n",
            "George Washington is an important figure in American history. He was a member of theocratic and anti-Catholic Church, he served as president for many times before being elected to Congress but never once ran against it again. \n",
            "\n",
            "\n",
            "\n",
            "::::YOURS OPTIONS ARE :::\n",
            "A. --> \n",
            "\n",
            "B. --> \n",
            "\n",
            "C. --> \n",
            "\n",
            "D. --> Write your own sentences\n",
            "E. --> STOP ESSAY WRITING\n",
            "{'A': 'George Washington is an important figure in American history. He was a member of theocratic and anti-Catholic Church, he served as president for many times before being elected to Congress but never once ran against it again.', 'B': 'George Washington is an important figure in American history. He was a member of theocratic and anti-Catholic Church, he served as president for many times before being elected to Congress but never once ran against it again.', 'C': 'George Washington is an important figure in American history. He was a member of theocratic and anti-Catholic Church, he served as president for many times before being elected to Congress but never once ran against it again.'}\n",
            "Choose your option >>> D\n",
            "Insert your own sentence >>> There are other influential men in American history.\n",
            " \n",
            " \n",
            " \n",
            " ****** ESSAY TILL THIS POINT *******\n",
            "George Washington is an important figure in American history. He was a member of theocratic and anti-Catholic Church, he served as president for many times before being elected to Congress but never once ran against it again. There are other influential men in American history. \n",
            "\n",
            "\n",
            "\n",
            "::::YOURS OPTIONS ARE :::\n",
            "A. --> \n",
            "I am not saying that I have any connection with him or his family; just say what you will be heard by those who know me personally about my life here on this blog.\n",
            "\n",
            "B. --> \n",
            "I have no doubt that some people will say this about me: \"He did not run with them.\n",
            "\n",
            "C. --> \n",
            "I am not sure if there were any others who could have been more powerful than George W.\n",
            "\n",
            "D. --> Write your own sentences\n",
            "E. --> STOP ESSAY WRITING\n",
            "{'A': 'George Washington is an important figure in American history. He was a member of theocratic and anti-Catholic Church, he served as president for many times before being elected to Congress but never once ran against it again. There are other influential men in American history.\\nI am not saying that I have any connection with him or his family; just say what you will be heard by those who know me personally about my life here on this blog.', 'B': 'George Washington is an important figure in American history. He was a member of theocratic and anti-Catholic Church, he served as president for many times before being elected to Congress but never once ran against it again. There are other influential men in American history.\\nI have no doubt that some people will say this about me: \"He did not run with them.', 'C': 'George Washington is an important figure in American history. He was a member of theocratic and anti-Catholic Church, he served as president for many times before being elected to Congress but never once ran against it again. There are other influential men in American history.\\nI am not sure if there were any others who could have been more powerful than George W.'}\n",
            "Choose your option >>> C\n",
            " \n",
            " \n",
            " \n",
            " ****** ESSAY TILL THIS POINT *******\n",
            "George Washington is an important figure in American history. He was a member of theocratic and anti-Catholic Church, he served as president for many times before being elected to Congress but never once ran against it again. There are other influential men in American history. I am not sure if there were any others who could have been more powerful than George W. \n",
            "\n",
            "\n",
            "\n",
            "::::YOURS OPTIONS ARE :::\n",
            "A. -->  Bush or John Fincher's father (who had no influence on him).\n",
            "\n",
            "B. --> \n",
            "\n",
            "C. -->  Bush or John F. Kennedy (who would be President).\n",
            "\n",
            "D. --> Write your own sentences\n",
            "E. --> STOP ESSAY WRITING\n",
            "{'A': \"George Washington is an important figure in American history. He was a member of theocratic and anti-Catholic Church, he served as president for many times before being elected to Congress but never once ran against it again. There are other influential men in American history. I am not sure if there were any others who could have been more powerful than George W. Bush or John Fincher's father (who had no influence on him).\", 'B': 'George Washington is an important figure in American history. He was a member of theocratic and anti-Catholic Church, he served as president for many times before being elected to Congress but never once ran against it again. There are other influential men in American history. I am not sure if there were any others who could have been more powerful than George W.', 'C': 'George Washington is an important figure in American history. He was a member of theocratic and anti-Catholic Church, he served as president for many times before being elected to Congress but never once ran against it again. There are other influential men in American history. I am not sure if there were any others who could have been more powerful than George W. Bush or John F. Kennedy (who would be President).'}\n",
            "Choose your option >>> C\n",
            " \n",
            " \n",
            " \n",
            " ****** ESSAY TILL THIS POINT *******\n",
            "George Washington is an important figure in American history. He was a member of theocratic and anti-Catholic Church, he served as president for many times before being elected to Congress but never once ran against it again. There are other influential men in American history. I am not sure if there were any others who could have been more powerful than George W. Bush or John F. Kennedy (who would be President). \n",
            "\n",
            "\n",
            "\n",
            "::::YOURS OPTIONS ARE :::\n",
            "A. --> \n",
            "I don't know what they think about this because we can only see them through their eyes so far from our own minds that all these people do believe themselves \"the most intelligent man ever.\n",
            "\n",
            "B. --> \n",
            "\n",
            "C. --> \n",
            "\n",
            "D. --> Write your own sentences\n",
            "E. --> STOP ESSAY WRITING\n",
            "{'A': 'George Washington is an important figure in American history. He was a member of theocratic and anti-Catholic Church, he served as president for many times before being elected to Congress but never once ran against it again. There are other influential men in American history. I am not sure if there were any others who could have been more powerful than George W. Bush or John F. Kennedy (who would be President).\\nI don\\'t know what they think about this because we can only see them through their eyes so far from our own minds that all these people do believe themselves \"the most intelligent man ever.', 'B': 'George Washington is an important figure in American history. He was a member of theocratic and anti-Catholic Church, he served as president for many times before being elected to Congress but never once ran against it again. There are other influential men in American history. I am not sure if there were any others who could have been more powerful than George W. Bush or John F. Kennedy (who would be President).', 'C': 'George Washington is an important figure in American history. He was a member of theocratic and anti-Catholic Church, he served as president for many times before being elected to Congress but never once ran against it again. There are other influential men in American history. I am not sure if there were any others who could have been more powerful than George W. Bush or John F. Kennedy (who would be President).'}\n",
            "Choose your option >>> C\n",
            " \n",
            " \n",
            " \n",
            " ****** ESSAY TILL THIS POINT *******\n",
            "George Washington is an important figure in American history. He was a member of theocratic and anti-Catholic Church, he served as president for many times before being elected to Congress but never once ran against it again. There are other influential men in American history. I am not sure if there were any others who could have been more powerful than George W. Bush or John F. Kennedy (who would be President). \n",
            "\n",
            "\n",
            "\n",
            "::::YOURS OPTIONS ARE :::\n",
            "A. --> \n",
            "\n",
            "B. --> \n",
            "\n",
            "C. --> \n",
            "The first time that we saw this happened on September 11th 2001 when our nation's military began its second major combat mission after Pearl Harbor.\n",
            "\n",
            "D. --> Write your own sentences\n",
            "E. --> STOP ESSAY WRITING\n",
            "{'A': 'George Washington is an important figure in American history. He was a member of theocratic and anti-Catholic Church, he served as president for many times before being elected to Congress but never once ran against it again. There are other influential men in American history. I am not sure if there were any others who could have been more powerful than George W. Bush or John F. Kennedy (who would be President).', 'B': 'George Washington is an important figure in American history. He was a member of theocratic and anti-Catholic Church, he served as president for many times before being elected to Congress but never once ran against it again. There are other influential men in American history. I am not sure if there were any others who could have been more powerful than George W. Bush or John F. Kennedy (who would be President).', 'C': \"George Washington is an important figure in American history. He was a member of theocratic and anti-Catholic Church, he served as president for many times before being elected to Congress but never once ran against it again. There are other influential men in American history. I am not sure if there were any others who could have been more powerful than George W. Bush or John F. Kennedy (who would be President).\\nThe first time that we saw this happened on September 11th 2001 when our nation's military began its second major combat mission after Pearl Harbor.\"}\n",
            "Choose your option >>> C\n",
            " \n",
            " \n",
            " \n",
            " ****** ESSAY TILL THIS POINT *******\n",
            "George Washington is an important figure in American history. He was a member of theocratic and anti-Catholic Church, he served as president for many times before being elected to Congress but never once ran against it again. There are other influential men in American history. I am not sure if there were any others who could have been more powerful than George W. Bush or John F. Kennedy (who would be President). The first time that we saw this happened on September 11th 2001 when our nation's military began its second major combat mission after Pearl Harbor. \n",
            "\n",
            "\n",
            "\n",
            "::::YOURS OPTIONS ARE :::\n",
            "A. --> \n",
            "\n",
            "B. --> \n",
            "\n",
            "C. --> \n",
            "\n",
            "D. --> Write your own sentences\n",
            "E. --> STOP ESSAY WRITING\n",
            "{'A': \"George Washington is an important figure in American history. He was a member of theocratic and anti-Catholic Church, he served as president for many times before being elected to Congress but never once ran against it again. There are other influential men in American history. I am not sure if there were any others who could have been more powerful than George W. Bush or John F. Kennedy (who would be President). The first time that we saw this happened on September 11th 2001 when our nation's military began its second major combat mission after Pearl Harbor.\", 'B': \"George Washington is an important figure in American history. He was a member of theocratic and anti-Catholic Church, he served as president for many times before being elected to Congress but never once ran against it again. There are other influential men in American history. I am not sure if there were any others who could have been more powerful than George W. Bush or John F. Kennedy (who would be President). The first time that we saw this happened on September 11th 2001 when our nation's military began its second major combat mission after Pearl Harbor.\", 'C': \"George Washington is an important figure in American history. He was a member of theocratic and anti-Catholic Church, he served as president for many times before being elected to Congress but never once ran against it again. There are other influential men in American history. I am not sure if there were any others who could have been more powerful than George W. Bush or John F. Kennedy (who would be President). The first time that we saw this happened on September 11th 2001 when our nation's military began its second major combat mission after Pearl Harbor.\"}\n",
            "Choose your option >>> C\n",
            " \n",
            " \n",
            " \n",
            " ****** ESSAY TILL THIS POINT *******\n",
            "George Washington is an important figure in American history. He was a member of theocratic and anti-Catholic Church, he served as president for many times before being elected to Congress but never once ran against it again. There are other influential men in American history. I am not sure if there were any others who could have been more powerful than George W. Bush or John F. Kennedy (who would be President). The first time that we saw this happened on September 11th 2001 when our nation's military began its second major combat mission after Pearl Harbor. \n",
            "\n",
            "\n",
            "\n",
            "::::YOURS OPTIONS ARE :::\n",
            "A. --> \n",
            "The United States has always had some great leaders like Henry Ford, William McKinley.\n",
            "\n",
            "B. -->  It ended with two planes flying over Japan from New York City at 9:45 p..m., which resulted into one last U.S.-Japan war between November 7 - 8, 2002.\n",
            "\n",
            "C. --> \n",
            "\n",
            "D. --> Write your own sentences\n",
            "E. --> STOP ESSAY WRITING\n",
            "{'A': \"George Washington is an important figure in American history. He was a member of theocratic and anti-Catholic Church, he served as president for many times before being elected to Congress but never once ran against it again. There are other influential men in American history. I am not sure if there were any others who could have been more powerful than George W. Bush or John F. Kennedy (who would be President). The first time that we saw this happened on September 11th 2001 when our nation's military began its second major combat mission after Pearl Harbor.\\nThe United States has always had some great leaders like Henry Ford, William McKinley.\", 'B': \"George Washington is an important figure in American history. He was a member of theocratic and anti-Catholic Church, he served as president for many times before being elected to Congress but never once ran against it again. There are other influential men in American history. I am not sure if there were any others who could have been more powerful than George W. Bush or John F. Kennedy (who would be President). The first time that we saw this happened on September 11th 2001 when our nation's military began its second major combat mission after Pearl Harbor. It ended with two planes flying over Japan from New York City at 9:45 p..m., which resulted into one last U.S.-Japan war between November 7 - 8, 2002.\", 'C': \"George Washington is an important figure in American history. He was a member of theocratic and anti-Catholic Church, he served as president for many times before being elected to Congress but never once ran against it again. There are other influential men in American history. I am not sure if there were any others who could have been more powerful than George W. Bush or John F. Kennedy (who would be President). The first time that we saw this happened on September 11th 2001 when our nation's military began its second major combat mission after Pearl Harbor.\"}\n",
            "Choose your option >>> B\n",
            " \n",
            " \n",
            " \n",
            " ****** ESSAY TILL THIS POINT *******\n",
            "George Washington is an important figure in American history. He was a member of theocratic and anti-Catholic Church, he served as president for many times before being elected to Congress but never once ran against it again. There are other influential men in American history. I am not sure if there were any others who could have been more powerful than George W. Bush or John F. Kennedy (who would be President). The first time that we saw this happened on September 11th 2001 when our nation's military began its second major combat mission after Pearl Harbor. It ended with two planes flying over Japan from New York City at 9:45 p..m., which resulted into one last U.S.-Japan war between November 7 - 8, 2002. \n",
            "\n",
            "\n",
            "\n",
            "::::YOURS OPTIONS ARE :::\n",
            "A. -->  This lasted until October 10 – 12 years ago where they both went down by 2nd degree bombs dropped during World War II.\n",
            "\n",
            "B. --> \n",
            "The next day they flew out their third aircraft carrier USS Nimitz off Okinawa Island where shelled Tokyo by Japanese forces during Operation Enduring Freedom.\n",
            "\n",
            "C. --> \n",
            "\n",
            "D. --> Write your own sentences\n",
            "E. --> STOP ESSAY WRITING\n",
            "{'A': \"George Washington is an important figure in American history. He was a member of theocratic and anti-Catholic Church, he served as president for many times before being elected to Congress but never once ran against it again. There are other influential men in American history. I am not sure if there were any others who could have been more powerful than George W. Bush or John F. Kennedy (who would be President). The first time that we saw this happened on September 11th 2001 when our nation's military began its second major combat mission after Pearl Harbor. It ended with two planes flying over Japan from New York City at 9:45 p..m., which resulted into one last U.S.-Japan war between November 7 - 8, 2002. This lasted until October 10 – 12 years ago where they both went down by 2nd degree bombs dropped during World War II.\", 'B': \"George Washington is an important figure in American history. He was a member of theocratic and anti-Catholic Church, he served as president for many times before being elected to Congress but never once ran against it again. There are other influential men in American history. I am not sure if there were any others who could have been more powerful than George W. Bush or John F. Kennedy (who would be President). The first time that we saw this happened on September 11th 2001 when our nation's military began its second major combat mission after Pearl Harbor. It ended with two planes flying over Japan from New York City at 9:45 p..m., which resulted into one last U.S.-Japan war between November 7 - 8, 2002.\\nThe next day they flew out their third aircraft carrier USS Nimitz off Okinawa Island where shelled Tokyo by Japanese forces during Operation Enduring Freedom.\", 'C': \"George Washington is an important figure in American history. He was a member of theocratic and anti-Catholic Church, he served as president for many times before being elected to Congress but never once ran against it again. There are other influential men in American history. I am not sure if there were any others who could have been more powerful than George W. Bush or John F. Kennedy (who would be President). The first time that we saw this happened on September 11th 2001 when our nation's military began its second major combat mission after Pearl Harbor. It ended with two planes flying over Japan from New York City at 9:45 p..m., which resulted into one last U.S.-Japan war between November 7 - 8, 2002.\"}\n",
            "Choose your option >>> C\n",
            " \n",
            " \n",
            " \n",
            " ****** ESSAY TILL THIS POINT *******\n",
            "George Washington is an important figure in American history. He was a member of theocratic and anti-Catholic Church, he served as president for many times before being elected to Congress but never once ran against it again. There are other influential men in American history. I am not sure if there were any others who could have been more powerful than George W. Bush or John F. Kennedy (who would be President). The first time that we saw this happened on September 11th 2001 when our nation's military began its second major combat mission after Pearl Harbor. It ended with two planes flying over Japan from New York City at 9:45 p..m., which resulted into one last U.S.-Japan war between November 7 - 8, 2002. \n",
            "\n",
            "\n",
            "\n",
            "::::YOURS OPTIONS ARE :::\n",
            "A. --> \n",
            "\n",
            "B. --> \n",
            "The next day they flew their final missions under Reagan until October 14...\n",
            "\n",
            "C. -->  This has become known by name \"The War Between America & China\" since then because they both came out front fighting each day during their respective wars.\n",
            "\n",
            "D. --> Write your own sentences\n",
            "E. --> STOP ESSAY WRITING\n",
            "{'A': \"George Washington is an important figure in American history. He was a member of theocratic and anti-Catholic Church, he served as president for many times before being elected to Congress but never once ran against it again. There are other influential men in American history. I am not sure if there were any others who could have been more powerful than George W. Bush or John F. Kennedy (who would be President). The first time that we saw this happened on September 11th 2001 when our nation's military began its second major combat mission after Pearl Harbor. It ended with two planes flying over Japan from New York City at 9:45 p..m., which resulted into one last U.S.-Japan war between November 7 - 8, 2002.\", 'B': \"George Washington is an important figure in American history. He was a member of theocratic and anti-Catholic Church, he served as president for many times before being elected to Congress but never once ran against it again. There are other influential men in American history. I am not sure if there were any others who could have been more powerful than George W. Bush or John F. Kennedy (who would be President). The first time that we saw this happened on September 11th 2001 when our nation's military began its second major combat mission after Pearl Harbor. It ended with two planes flying over Japan from New York City at 9:45 p..m., which resulted into one last U.S.-Japan war between November 7 - 8, 2002.\\nThe next day they flew their final missions under Reagan until October 14...\", 'C': 'George Washington is an important figure in American history. He was a member of theocratic and anti-Catholic Church, he served as president for many times before being elected to Congress but never once ran against it again. There are other influential men in American history. I am not sure if there were any others who could have been more powerful than George W. Bush or John F. Kennedy (who would be President). The first time that we saw this happened on September 11th 2001 when our nation\\'s military began its second major combat mission after Pearl Harbor. It ended with two planes flying over Japan from New York City at 9:45 p..m., which resulted into one last U.S.-Japan war between November 7 - 8, 2002. This has become known by name \"The War Between America & China\" since then because they both came out front fighting each day during their respective wars.'}\n",
            "Choose your option >>> E\n",
            "\n",
            "\n",
            "================  COMPLETE ESSAY  ======================\n",
            "George Washington is an important figure in American history. He was a member of theocratic and anti-Catholic Church, he served as president for many times before being elected to Congress but never once ran against it again. There are other influential men in American history. I am not sure if there were any others who could have been more powerful than George W. Bush or John F. Kennedy (who would be President). The first time that we saw this happened on September 11th 2001 when our nation's military began its second major combat mission after Pearl Harbor. It ended with two planes flying over Japan from New York City at 9:45 p..m., which resulted into one last U.S.-Japan war between November 7 - 8, 2002.\n"
          ],
          "name": "stdout"
        }
      ]
    }
  ]
}
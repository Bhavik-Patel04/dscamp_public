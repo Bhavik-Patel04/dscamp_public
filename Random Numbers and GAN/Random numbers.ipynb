{
 "cells": [
  {
   "cell_type": "markdown",
   "metadata": {},
   "source": [
    "# Generate random integer between certain range"
   ]
  },
  {
   "cell_type": "code",
   "execution_count": 1,
   "metadata": {},
   "outputs": [
    {
     "data": {
      "text/plain": [
       "array([59, 74, 55, 36, 18, 50, 34, 58, 39, 23])"
      ]
     },
     "execution_count": 1,
     "metadata": {},
     "output_type": "execute_result"
    }
   ],
   "source": [
    "import numpy as np\n",
    "np.random.randint(low=1,high=100,size=10)"
   ]
  },
  {
   "cell_type": "markdown",
   "metadata": {},
   "source": [
    "How can we get outcome from flipping a fair coin?"
   ]
  },
  {
   "cell_type": "code",
   "execution_count": 5,
   "metadata": {},
   "outputs": [
    {
     "data": {
      "text/plain": [
       "array([0, 0, 0, 0, 1, 0, 0, 1, 1, 0])"
      ]
     },
     "execution_count": 5,
     "metadata": {},
     "output_type": "execute_result"
    }
   ],
   "source": [
    "np.random.randint(low=0,high=2,size=10)"
   ]
  },
  {
   "cell_type": "markdown",
   "metadata": {},
   "source": [
    "Practise: How can we get outcome from rolling a dice?"
   ]
  },
  {
   "cell_type": "code",
   "execution_count": null,
   "metadata": {},
   "outputs": [],
   "source": []
  },
  {
   "cell_type": "markdown",
   "metadata": {},
   "source": [
    "# Generate random variables following certain distributions"
   ]
  },
  {
   "cell_type": "markdown",
   "metadata": {},
   "source": [
    "Uniform distribution"
   ]
  },
  {
   "cell_type": "code",
   "execution_count": 2,
   "metadata": {},
   "outputs": [
    {
     "data": {
      "text/plain": [
       "array([0.50218872, 0.93829678, 0.03200873, 0.02877784, 0.71492507])"
      ]
     },
     "execution_count": 2,
     "metadata": {},
     "output_type": "execute_result"
    }
   ],
   "source": [
    "np.random.uniform(size=5)"
   ]
  },
  {
   "cell_type": "markdown",
   "metadata": {},
   "source": [
    "Normal Distribution"
   ]
  },
  {
   "cell_type": "code",
   "execution_count": 4,
   "metadata": {},
   "outputs": [
    {
     "data": {
      "text/plain": [
       "array([ 0.48667981,  1.1099144 , -0.2189037 ,  0.12353189, -0.07813375])"
      ]
     },
     "execution_count": 4,
     "metadata": {},
     "output_type": "execute_result"
    }
   ],
   "source": [
    "np.random.normal(size=5)"
   ]
  },
  {
   "cell_type": "markdown",
   "metadata": {},
   "source": [
    "Do plotting to see the distribution"
   ]
  },
  {
   "cell_type": "code",
   "execution_count": 11,
   "metadata": {},
   "outputs": [],
   "source": [
    "import matplotlib.pyplot as plt"
   ]
  },
  {
   "cell_type": "code",
   "execution_count": 43,
   "metadata": {},
   "outputs": [
    {
     "data": {
      "text/plain": [
       "(array([ 99267.,  99968., 100251.,  99756., 100100.,  99903., 100164.,\n",
       "        100366., 100106.,  99450.,  99513.,  99884.,  99594., 100684.,\n",
       "         99357., 100370., 100015.,  99726., 100131., 100122., 100026.,\n",
       "         99868.,  99341., 100169., 100129., 100344.,  99935., 100349.,\n",
       "        100071., 100260., 100164.,  99789.,  99656., 100693., 100135.,\n",
       "        100531.,  99526.,  99930.,  99846.,  99286.,  99708.,  99721.,\n",
       "        100333.,  99731., 100302., 100206.,  99830.,  99613.,  99620.,\n",
       "         99933., 100539., 100499.,  99509., 100119., 100416.,  99928.,\n",
       "        100104.,  99940.,  99597., 100467.,  99849.,  99563., 100122.,\n",
       "         99969., 100062.,  99740.,  99390., 100391.,  99792., 100686.,\n",
       "        100276., 100131., 100101., 100123.,  99789., 100231.,  99967.,\n",
       "         99697.,  99605., 100479., 100290., 100032., 100376., 100347.,\n",
       "         99968.,  99450., 100351.,  99921.,  99949., 100379.,  99639.,\n",
       "         99862.,  99698., 100342.,  99553., 100326., 100662.,  99915.,\n",
       "         99893., 100194.]),\n",
       " array([ 0.  ,  0.99,  1.98,  2.97,  3.96,  4.95,  5.94,  6.93,  7.92,\n",
       "         8.91,  9.9 , 10.89, 11.88, 12.87, 13.86, 14.85, 15.84, 16.83,\n",
       "        17.82, 18.81, 19.8 , 20.79, 21.78, 22.77, 23.76, 24.75, 25.74,\n",
       "        26.73, 27.72, 28.71, 29.7 , 30.69, 31.68, 32.67, 33.66, 34.65,\n",
       "        35.64, 36.63, 37.62, 38.61, 39.6 , 40.59, 41.58, 42.57, 43.56,\n",
       "        44.55, 45.54, 46.53, 47.52, 48.51, 49.5 , 50.49, 51.48, 52.47,\n",
       "        53.46, 54.45, 55.44, 56.43, 57.42, 58.41, 59.4 , 60.39, 61.38,\n",
       "        62.37, 63.36, 64.35, 65.34, 66.33, 67.32, 68.31, 69.3 , 70.29,\n",
       "        71.28, 72.27, 73.26, 74.25, 75.24, 76.23, 77.22, 78.21, 79.2 ,\n",
       "        80.19, 81.18, 82.17, 83.16, 84.15, 85.14, 86.13, 87.12, 88.11,\n",
       "        89.1 , 90.09, 91.08, 92.07, 93.06, 94.05, 95.04, 96.03, 97.02,\n",
       "        98.01, 99.  ]),\n",
       " <a list of 100 Patch objects>)"
      ]
     },
     "execution_count": 43,
     "metadata": {},
     "output_type": "execute_result"
    },
    {
     "data": {
      "image/png": "[encoded data removed]",
      "text/plain": [
       "<Figure size 432x288 with 1 Axes>"
      ]
     },
     "metadata": {
      "needs_background": "light"
     },
     "output_type": "display_data"
    }
   ],
   "source": [
    "z=np.random.randint(low=0,high=100,size=10000000)\n",
    "plt.hist(z,bins=100)"
   ]
  },
  {
   "cell_type": "code",
   "execution_count": 41,
   "metadata": {},
   "outputs": [
    {
     "data": {
      "text/plain": [
       "(array([ 99645., 100043., 100074.,  99662.,  99781., 100232., 100199.,\n",
       "         99487.,  99937., 100108.,  99958.,  99972., 100435.,  99974.,\n",
       "        100180., 100041., 100597.,  99851.,  99555.,  99816.,  99897.,\n",
       "         99971.,  99893., 100295., 100453.,  99659., 100434., 100126.,\n",
       "        100012.,  99697.,  99915.,  99943., 100571., 100243.,  99811.,\n",
       "        100050.,  99463., 100162., 100186.,  99850., 100138.,  99671.,\n",
       "         99380.,  99982.,  99992., 100530.,  99821.,  99693.,  99709.,\n",
       "         99742., 100479.,  99285., 100126., 100269., 100235., 100253.,\n",
       "         99615., 100004., 100327., 100388., 100006.,  99375.,  99823.,\n",
       "        100209.,  99972., 100319.,  99599.,  99911., 100227.,  99877.,\n",
       "         99469.,  99577.,  99726.,  99994.,  99975., 100058.,  99695.,\n",
       "        100328., 100170., 100264.,  99928.,  99743., 100356., 100076.,\n",
       "         99725.,  99725.,  99721., 100096., 100098.,  99531.,  99935.,\n",
       "        100971., 100277., 100192., 100305., 100142., 100261.,  99968.,\n",
       "        100135., 100424.]),\n",
       " array([1.30402145e-07, 1.00001279e-02, 2.00001254e-02, 3.00001230e-02,\n",
       "        4.00001205e-02, 5.00001180e-02, 6.00001155e-02, 7.00001130e-02,\n",
       "        8.00001106e-02, 9.00001081e-02, 1.00000106e-01, 1.10000103e-01,\n",
       "        1.20000101e-01, 1.30000098e-01, 1.40000096e-01, 1.50000093e-01,\n",
       "        1.60000091e-01, 1.70000088e-01, 1.80000086e-01, 1.90000083e-01,\n",
       "        2.00000081e-01, 2.10000078e-01, 2.20000076e-01, 2.30000073e-01,\n",
       "        2.40000071e-01, 2.50000068e-01, 2.60000066e-01, 2.70000063e-01,\n",
       "        2.80000061e-01, 2.90000059e-01, 3.00000056e-01, 3.10000054e-01,\n",
       "        3.20000051e-01, 3.30000049e-01, 3.40000046e-01, 3.50000044e-01,\n",
       "        3.60000041e-01, 3.70000039e-01, 3.80000036e-01, 3.90000034e-01,\n",
       "        4.00000031e-01, 4.10000029e-01, 4.20000026e-01, 4.30000024e-01,\n",
       "        4.40000021e-01, 4.50000019e-01, 4.60000016e-01, 4.70000014e-01,\n",
       "        4.80000011e-01, 4.90000009e-01, 5.00000006e-01, 5.10000004e-01,\n",
       "        5.20000001e-01, 5.29999999e-01, 5.39999997e-01, 5.49999994e-01,\n",
       "        5.59999992e-01, 5.69999989e-01, 5.79999987e-01, 5.89999984e-01,\n",
       "        5.99999982e-01, 6.09999979e-01, 6.19999977e-01, 6.29999974e-01,\n",
       "        6.39999972e-01, 6.49999969e-01, 6.59999967e-01, 6.69999964e-01,\n",
       "        6.79999962e-01, 6.89999959e-01, 6.99999957e-01, 7.09999954e-01,\n",
       "        7.19999952e-01, 7.29999949e-01, 7.39999947e-01, 7.49999944e-01,\n",
       "        7.59999942e-01, 7.69999939e-01, 7.79999937e-01, 7.89999935e-01,\n",
       "        7.99999932e-01, 8.09999930e-01, 8.19999927e-01, 8.29999925e-01,\n",
       "        8.39999922e-01, 8.49999920e-01, 8.59999917e-01, 8.69999915e-01,\n",
       "        8.79999912e-01, 8.89999910e-01, 8.99999907e-01, 9.09999905e-01,\n",
       "        9.19999902e-01, 9.29999900e-01, 9.39999897e-01, 9.49999895e-01,\n",
       "        9.59999892e-01, 9.69999890e-01, 9.79999887e-01, 9.89999885e-01,\n",
       "        9.99999882e-01]),\n",
       " <a list of 100 Patch objects>)"
      ]
     },
     "execution_count": 41,
     "metadata": {},
     "output_type": "execute_result"
    },
    {
     "data": {
      "image/png": "[encoded data removed]",
      "text/plain": [
       "<Figure size 432x288 with 1 Axes>"
      ]
     },
     "metadata": {
      "needs_background": "light"
     },
     "output_type": "display_data"
    }
   ],
   "source": [
    "x=np.random.uniform(size=10000000)\n",
    "plt.hist(x,bins=100)"
   ]
  },
  {
   "cell_type": "code",
   "execution_count": 38,
   "metadata": {},
   "outputs": [
    {
     "data": {
      "text/plain": [
       "(array([2.000e+00, 2.000e+00, 1.000e+00, 1.000e+00, 3.000e+00, 6.000e+00,\n",
       "        7.000e+00, 9.000e+00, 1.400e+01, 9.000e+00, 2.000e+01, 1.600e+01,\n",
       "        3.400e+01, 4.100e+01, 4.800e+01, 5.800e+01, 7.200e+01, 9.300e+01,\n",
       "        1.180e+02, 1.470e+02, 2.150e+02, 2.410e+02, 2.850e+02, 3.460e+02,\n",
       "        4.520e+02, 5.400e+02, 6.090e+02, 7.210e+02, 7.950e+02, 9.140e+02,\n",
       "        1.088e+03, 1.236e+03, 1.389e+03, 1.490e+03, 1.730e+03, 1.954e+03,\n",
       "        1.992e+03, 2.287e+03, 2.416e+03, 2.636e+03, 2.824e+03, 3.013e+03,\n",
       "        3.078e+03, 3.121e+03, 3.294e+03, 3.306e+03, 3.483e+03, 3.442e+03,\n",
       "        3.402e+03, 3.488e+03, 3.371e+03, 3.313e+03, 3.299e+03, 3.094e+03,\n",
       "        3.000e+03, 2.675e+03, 2.660e+03, 2.431e+03, 2.243e+03, 2.122e+03,\n",
       "        2.021e+03, 1.855e+03, 1.603e+03, 1.364e+03, 1.273e+03, 1.111e+03,\n",
       "        1.013e+03, 8.410e+02, 7.250e+02, 5.950e+02, 5.080e+02, 4.480e+02,\n",
       "        3.780e+02, 3.080e+02, 2.580e+02, 2.380e+02, 1.640e+02, 1.350e+02,\n",
       "        1.070e+02, 7.000e+01, 7.000e+01, 6.100e+01, 4.800e+01, 2.800e+01,\n",
       "        2.200e+01, 1.900e+01, 8.000e+00, 5.000e+00, 6.000e+00, 6.000e+00,\n",
       "        2.000e+00, 5.000e+00, 2.000e+00, 2.000e+00, 3.000e+00, 1.000e+00,\n",
       "        0.000e+00, 0.000e+00, 0.000e+00, 1.000e+00]),\n",
       " array([-4.15779656, -4.07131973, -3.98484289, -3.89836606, -3.81188923,\n",
       "        -3.72541239, -3.63893556, -3.55245873, -3.46598189, -3.37950506,\n",
       "        -3.29302823, -3.20655139, -3.12007456, -3.03359773, -2.94712089,\n",
       "        -2.86064406, -2.77416723, -2.68769039, -2.60121356, -2.51473673,\n",
       "        -2.4282599 , -2.34178306, -2.25530623, -2.1688294 , -2.08235256,\n",
       "        -1.99587573, -1.9093989 , -1.82292206, -1.73644523, -1.6499684 ,\n",
       "        -1.56349156, -1.47701473, -1.3905379 , -1.30406106, -1.21758423,\n",
       "        -1.1311074 , -1.04463056, -0.95815373, -0.8716769 , -0.78520006,\n",
       "        -0.69872323, -0.6122464 , -0.52576956, -0.43929273, -0.3528159 ,\n",
       "        -0.26633906, -0.17986223, -0.0933854 , -0.00690857,  0.07956827,\n",
       "         0.1660451 ,  0.25252193,  0.33899877,  0.4254756 ,  0.51195243,\n",
       "         0.59842927,  0.6849061 ,  0.77138293,  0.85785977,  0.9443366 ,\n",
       "         1.03081343,  1.11729027,  1.2037671 ,  1.29024393,  1.37672077,\n",
       "         1.4631976 ,  1.54967443,  1.63615127,  1.7226281 ,  1.80910493,\n",
       "         1.89558177,  1.9820586 ,  2.06853543,  2.15501227,  2.2414891 ,\n",
       "         2.32796593,  2.41444276,  2.5009196 ,  2.58739643,  2.67387326,\n",
       "         2.7603501 ,  2.84682693,  2.93330376,  3.0197806 ,  3.10625743,\n",
       "         3.19273426,  3.2792111 ,  3.36568793,  3.45216476,  3.5386416 ,\n",
       "         3.62511843,  3.71159526,  3.7980721 ,  3.88454893,  3.97102576,\n",
       "         4.0575026 ,  4.14397943,  4.23045626,  4.3169331 ,  4.40340993,\n",
       "         4.48988676]),\n",
       " <a list of 100 Patch objects>)"
      ]
     },
     "execution_count": 38,
     "metadata": {},
     "output_type": "execute_result"
    },
    {
     "data": {
      "image/png": "[encoded data removed]",
      "text/plain": [
       "<Figure size 432x288 with 1 Axes>"
      ]
     },
     "metadata": {
      "needs_background": "light"
     },
     "output_type": "display_data"
    }
   ],
   "source": [
    "x=np.random.normal(size=100000)\n",
    "plt.hist(x,bins=100)"
   ]
  },
  {
   "cell_type": "markdown",
   "metadata": {},
   "source": [
    "<b>Let's see some more distributions.</b> <br>\n",
    "Exponential Distribution"
   ]
  },
  {
   "cell_type": "code",
   "execution_count": 45,
   "metadata": {},
   "outputs": [
    {
     "data": {
      "text/plain": [
       "(array([1.2462e+04, 1.1140e+04, 9.2950e+03, 8.3930e+03, 7.3750e+03,\n",
       "        6.3800e+03, 5.6410e+03, 4.8480e+03, 4.3140e+03, 3.7410e+03,\n",
       "        3.3570e+03, 2.8270e+03, 2.4770e+03, 2.3020e+03, 1.8650e+03,\n",
       "        1.7590e+03, 1.4860e+03, 1.2300e+03, 1.0930e+03, 1.0050e+03,\n",
       "        9.2200e+02, 8.1500e+02, 6.1600e+02, 5.5700e+02, 5.0800e+02,\n",
       "        4.6000e+02, 3.6300e+02, 3.5100e+02, 3.2500e+02, 2.5000e+02,\n",
       "        2.2700e+02, 2.3000e+02, 1.8200e+02, 1.4300e+02, 1.4000e+02,\n",
       "        1.1500e+02, 1.1300e+02, 9.2000e+01, 7.8000e+01, 6.8000e+01,\n",
       "        6.2000e+01, 5.7000e+01, 4.8000e+01, 4.3000e+01, 4.1000e+01,\n",
       "        3.3000e+01, 2.1000e+01, 1.6000e+01, 2.0000e+01, 1.9000e+01,\n",
       "        1.8000e+01, 1.6000e+01, 1.5000e+01, 4.0000e+00, 6.0000e+00,\n",
       "        6.0000e+00, 2.0000e+00, 2.0000e+00, 1.0000e+00, 7.0000e+00,\n",
       "        2.0000e+00, 5.0000e+00, 2.0000e+00, 0.0000e+00, 1.0000e+00,\n",
       "        2.0000e+00, 0.0000e+00, 1.0000e+00, 0.0000e+00, 0.0000e+00,\n",
       "        1.0000e+00, 0.0000e+00, 0.0000e+00, 0.0000e+00, 0.0000e+00,\n",
       "        0.0000e+00, 0.0000e+00, 0.0000e+00, 3.0000e+00, 0.0000e+00,\n",
       "        0.0000e+00, 0.0000e+00, 0.0000e+00, 0.0000e+00, 0.0000e+00,\n",
       "        0.0000e+00, 0.0000e+00, 0.0000e+00, 0.0000e+00, 0.0000e+00,\n",
       "        0.0000e+00, 0.0000e+00, 0.0000e+00, 0.0000e+00, 0.0000e+00,\n",
       "        0.0000e+00, 0.0000e+00, 0.0000e+00, 0.0000e+00, 1.0000e+00]),\n",
       " array([1.57553207e-05, 1.33075295e-01, 2.66134835e-01, 3.99194374e-01,\n",
       "        5.32253914e-01, 6.65313454e-01, 7.98372994e-01, 9.31432533e-01,\n",
       "        1.06449207e+00, 1.19755161e+00, 1.33061115e+00, 1.46367069e+00,\n",
       "        1.59673023e+00, 1.72978977e+00, 1.86284931e+00, 1.99590885e+00,\n",
       "        2.12896839e+00, 2.26202793e+00, 2.39508747e+00, 2.52814701e+00,\n",
       "        2.66120655e+00, 2.79426609e+00, 2.92732563e+00, 3.06038517e+00,\n",
       "        3.19344471e+00, 3.32650425e+00, 3.45956379e+00, 3.59262333e+00,\n",
       "        3.72568287e+00, 3.85874241e+00, 3.99180195e+00, 4.12486149e+00,\n",
       "        4.25792103e+00, 4.39098057e+00, 4.52404011e+00, 4.65709964e+00,\n",
       "        4.79015918e+00, 4.92321872e+00, 5.05627826e+00, 5.18933780e+00,\n",
       "        5.32239734e+00, 5.45545688e+00, 5.58851642e+00, 5.72157596e+00,\n",
       "        5.85463550e+00, 5.98769504e+00, 6.12075458e+00, 6.25381412e+00,\n",
       "        6.38687366e+00, 6.51993320e+00, 6.65299274e+00, 6.78605228e+00,\n",
       "        6.91911182e+00, 7.05217136e+00, 7.18523090e+00, 7.31829044e+00,\n",
       "        7.45134998e+00, 7.58440952e+00, 7.71746906e+00, 7.85052860e+00,\n",
       "        7.98358814e+00, 8.11664768e+00, 8.24970722e+00, 8.38276676e+00,\n",
       "        8.51582630e+00, 8.64888584e+00, 8.78194538e+00, 8.91500492e+00,\n",
       "        9.04806445e+00, 9.18112399e+00, 9.31418353e+00, 9.44724307e+00,\n",
       "        9.58030261e+00, 9.71336215e+00, 9.84642169e+00, 9.97948123e+00,\n",
       "        1.01125408e+01, 1.02456003e+01, 1.03786599e+01, 1.05117194e+01,\n",
       "        1.06447789e+01, 1.07778385e+01, 1.09108980e+01, 1.10439576e+01,\n",
       "        1.11770171e+01, 1.13100766e+01, 1.14431362e+01, 1.15761957e+01,\n",
       "        1.17092552e+01, 1.18423148e+01, 1.19753743e+01, 1.21084339e+01,\n",
       "        1.22414934e+01, 1.23745529e+01, 1.25076125e+01, 1.26406720e+01,\n",
       "        1.27737316e+01, 1.29067911e+01, 1.30398506e+01, 1.31729102e+01,\n",
       "        1.33059697e+01]),\n",
       " <a list of 100 Patch objects>)"
      ]
     },
     "execution_count": 45,
     "metadata": {},
     "output_type": "execute_result"
    },
    {
     "data": {
      "image/png": "[encoded data removed]",
      "text/plain": [
       "<Figure size 432x288 with 1 Axes>"
      ]
     },
     "metadata": {
      "needs_background": "light"
     },
     "output_type": "display_data"
    }
   ],
   "source": [
    "x=np.random.exponential(size=100000)\n",
    "plt.hist(x,bins=100)"
   ]
  },
  {
   "cell_type": "markdown",
   "metadata": {},
   "source": [
    "Binomial distribution"
   ]
  },
  {
   "cell_type": "code",
   "execution_count": 55,
   "metadata": {},
   "outputs": [
    {
     "data": {
      "text/plain": [
       "(array([  1.,   0.,   4.,   0.,   0.,   4.,   0.,   0.,   8.,   0.,   0.,\n",
       "         20.,   0.,   0.,  53.,   0.,   0.,  77.,   0.,   0., 131.,   0.,\n",
       "          0., 195.,   0.,   0., 291.,   0.,   0., 352.,   0.,   0., 489.,\n",
       "          0.,   0., 626.,   0.,   0., 689.,   0.,   0., 790.,   0.,   0.,\n",
       "        858.,   0.,   0., 879.,   0.,   0., 824.,   0., 784.,   0.,   0.,\n",
       "        693.,   0.,   0., 587.,   0.,   0., 462.,   0.,   0., 392.,   0.,\n",
       "          0., 254.,   0.,   0., 207.,   0.,   0., 135.,   0.,   0.,  68.,\n",
       "          0.,   0.,  58.,   0.,   0.,  30.,   0.,   0.,  14.,   0.,   0.,\n",
       "         12.,   0.,   0.,   7.,   0.,   0.,   3.,   0.,   0.,   2.,   0.,\n",
       "          1.]),\n",
       " array([14.  , 14.34, 14.68, 15.02, 15.36, 15.7 , 16.04, 16.38, 16.72,\n",
       "        17.06, 17.4 , 17.74, 18.08, 18.42, 18.76, 19.1 , 19.44, 19.78,\n",
       "        20.12, 20.46, 20.8 , 21.14, 21.48, 21.82, 22.16, 22.5 , 22.84,\n",
       "        23.18, 23.52, 23.86, 24.2 , 24.54, 24.88, 25.22, 25.56, 25.9 ,\n",
       "        26.24, 26.58, 26.92, 27.26, 27.6 , 27.94, 28.28, 28.62, 28.96,\n",
       "        29.3 , 29.64, 29.98, 30.32, 30.66, 31.  , 31.34, 31.68, 32.02,\n",
       "        32.36, 32.7 , 33.04, 33.38, 33.72, 34.06, 34.4 , 34.74, 35.08,\n",
       "        35.42, 35.76, 36.1 , 36.44, 36.78, 37.12, 37.46, 37.8 , 38.14,\n",
       "        38.48, 38.82, 39.16, 39.5 , 39.84, 40.18, 40.52, 40.86, 41.2 ,\n",
       "        41.54, 41.88, 42.22, 42.56, 42.9 , 43.24, 43.58, 43.92, 44.26,\n",
       "        44.6 , 44.94, 45.28, 45.62, 45.96, 46.3 , 46.64, 46.98, 47.32,\n",
       "        47.66, 48.  ]),\n",
       " <a list of 100 Patch objects>)"
      ]
     },
     "execution_count": 55,
     "metadata": {},
     "output_type": "execute_result"
    },
    {
     "data": {
      "image/png": "[encoded data removed]",
      "text/plain": [
       "<Figure size 432x288 with 1 Axes>"
      ]
     },
     "metadata": {
      "needs_background": "light"
     },
     "output_type": "display_data"
    }
   ],
   "source": [
    "x=np.random.binomial(100,0.3,size=10000)\n",
    "plt.hist(x,bins=100)"
   ]
  },
  {
   "cell_type": "markdown",
   "metadata": {},
   "source": [
    "Can you see some relation between binomial and normal distribution?"
   ]
  },
  {
   "cell_type": "markdown",
   "metadata": {},
   "source": [
    "Can you try build an unfair coin?"
   ]
  },
  {
   "cell_type": "markdown",
   "metadata": {},
   "source": [
    "# Random Number Transformation"
   ]
  },
  {
   "cell_type": "markdown",
   "metadata": {},
   "source": [
    "We do a simple example: transform uniform distribution into exponential distribution"
   ]
  },
  {
   "cell_type": "code",
   "execution_count": 46,
   "metadata": {},
   "outputs": [
    {
     "data": {
      "text/plain": [
       "(array([ 996., 1007., 1043., 1011., 1023., 1032., 1030., 1027.,  968.,\n",
       "         998.,  996., 1015.,  982.,  977., 1014., 1005., 1012., 1003.,\n",
       "        1023.,  993., 1018., 1003.,  972., 1011., 1010., 1073.,  986.,\n",
       "        1025., 1014., 1003.,  983.,  975.,  946., 1015., 1001., 1002.,\n",
       "         987., 1025.,  999., 1029.,  982.,  980., 1008.,  956.,  992.,\n",
       "        1007., 1031., 1017.,  970.,  945.,  954.,  978., 1050., 1021.,\n",
       "         965., 1040., 1015., 1033., 1016., 1046., 1000.,  933.,  979.,\n",
       "         982., 1029., 1032.,  952.,  987.,  938.,  933.,  990.,  962.,\n",
       "        1004.,  907., 1105.,  928.,  939., 1011., 1009.,  977., 1106.,\n",
       "         986., 1041., 1009., 1010., 1003.,  992.,  983.,  989., 1026.,\n",
       "        1014.,  948., 1010., 1039., 1012.,  999.,  970.,  981., 1041.,\n",
       "        1006.]),\n",
       " array([3.84993388e-08, 9.99997090e-03, 1.99999033e-02, 2.99998357e-02,\n",
       "        3.99997681e-02, 4.99997005e-02, 5.99996329e-02, 6.99995653e-02,\n",
       "        7.99994977e-02, 8.99994301e-02, 9.99993625e-02, 1.09999295e-01,\n",
       "        1.19999227e-01, 1.29999160e-01, 1.39999092e-01, 1.49999025e-01,\n",
       "        1.59998957e-01, 1.69998889e-01, 1.79998822e-01, 1.89998754e-01,\n",
       "        1.99998687e-01, 2.09998619e-01, 2.19998551e-01, 2.29998484e-01,\n",
       "        2.39998416e-01, 2.49998349e-01, 2.59998281e-01, 2.69998213e-01,\n",
       "        2.79998146e-01, 2.89998078e-01, 2.99998011e-01, 3.09997943e-01,\n",
       "        3.19997875e-01, 3.29997808e-01, 3.39997740e-01, 3.49997673e-01,\n",
       "        3.59997605e-01, 3.69997537e-01, 3.79997470e-01, 3.89997402e-01,\n",
       "        3.99997335e-01, 4.09997267e-01, 4.19997199e-01, 4.29997132e-01,\n",
       "        4.39997064e-01, 4.49996997e-01, 4.59996929e-01, 4.69996861e-01,\n",
       "        4.79996794e-01, 4.89996726e-01, 4.99996659e-01, 5.09996591e-01,\n",
       "        5.19996523e-01, 5.29996456e-01, 5.39996388e-01, 5.49996321e-01,\n",
       "        5.59996253e-01, 5.69996185e-01, 5.79996118e-01, 5.89996050e-01,\n",
       "        5.99995983e-01, 6.09995915e-01, 6.19995847e-01, 6.29995780e-01,\n",
       "        6.39995712e-01, 6.49995645e-01, 6.59995577e-01, 6.69995509e-01,\n",
       "        6.79995442e-01, 6.89995374e-01, 6.99995307e-01, 7.09995239e-01,\n",
       "        7.19995172e-01, 7.29995104e-01, 7.39995036e-01, 7.49994969e-01,\n",
       "        7.59994901e-01, 7.69994834e-01, 7.79994766e-01, 7.89994698e-01,\n",
       "        7.99994631e-01, 8.09994563e-01, 8.19994496e-01, 8.29994428e-01,\n",
       "        8.39994360e-01, 8.49994293e-01, 8.59994225e-01, 8.69994158e-01,\n",
       "        8.79994090e-01, 8.89994022e-01, 8.99993955e-01, 9.09993887e-01,\n",
       "        9.19993820e-01, 9.29993752e-01, 9.39993684e-01, 9.49993617e-01,\n",
       "        9.59993549e-01, 9.69993482e-01, 9.79993414e-01, 9.89993346e-01,\n",
       "        9.99993279e-01]),\n",
       " <a list of 100 Patch objects>)"
      ]
     },
     "execution_count": 46,
     "metadata": {},
     "output_type": "execute_result"
    },
    {
     "data": {
      "image/png": "[encoded data removed]",
      "text/plain": [
       "<Figure size 432x288 with 1 Axes>"
      ]
     },
     "metadata": {
      "needs_background": "light"
     },
     "output_type": "display_data"
    }
   ],
   "source": [
    "x=np.random.uniform(size=100000)\n",
    "plt.hist(x,bins=100)"
   ]
  },
  {
   "cell_type": "code",
   "execution_count": 47,
   "metadata": {},
   "outputs": [
    {
     "data": {
      "text/plain": [
       "(array([1.0251e+04, 9.1580e+03, 8.0830e+03, 7.4450e+03, 6.7550e+03,\n",
       "        5.9110e+03, 5.3820e+03, 4.7250e+03, 4.2910e+03, 3.8110e+03,\n",
       "        3.4400e+03, 3.1760e+03, 2.8090e+03, 2.5440e+03, 2.2890e+03,\n",
       "        2.0330e+03, 1.8220e+03, 1.7020e+03, 1.4090e+03, 1.3100e+03,\n",
       "        1.1410e+03, 1.0960e+03, 9.5000e+02, 9.0300e+02, 7.7900e+02,\n",
       "        6.5800e+02, 6.4300e+02, 5.9700e+02, 4.7900e+02, 4.7000e+02,\n",
       "        3.8800e+02, 3.6000e+02, 3.2900e+02, 3.0200e+02, 2.3100e+02,\n",
       "        2.0900e+02, 2.2000e+02, 2.0500e+02, 1.4900e+02, 1.6100e+02,\n",
       "        1.2900e+02, 1.4200e+02, 1.0400e+02, 9.8000e+01, 1.1100e+02,\n",
       "        9.1000e+01, 8.1000e+01, 7.4000e+01, 5.4000e+01, 5.4000e+01,\n",
       "        3.5000e+01, 3.1000e+01, 3.7000e+01, 3.2000e+01, 2.7000e+01,\n",
       "        2.2000e+01, 2.9000e+01, 1.6000e+01, 1.7000e+01, 1.5000e+01,\n",
       "        1.5000e+01, 2.3000e+01, 1.1000e+01, 1.3000e+01, 1.1000e+01,\n",
       "        1.7000e+01, 6.0000e+00, 8.0000e+00, 4.0000e+00, 1.0000e+01,\n",
       "        8.0000e+00, 6.0000e+00, 7.0000e+00, 3.0000e+00, 3.0000e+00,\n",
       "        4.0000e+00, 6.0000e+00, 2.0000e+00, 1.0000e+00, 6.0000e+00,\n",
       "        2.0000e+00, 2.0000e+00, 2.0000e+00, 1.0000e+00, 3.0000e+00,\n",
       "        0.0000e+00, 1.0000e+00, 2.0000e+00, 1.0000e+00, 0.0000e+00,\n",
       "        0.0000e+00, 1.0000e+00, 0.0000e+00, 2.0000e+00, 0.0000e+00,\n",
       "        1.0000e+00, 0.0000e+00, 0.0000e+00, 1.0000e+00, 2.0000e+00]),\n",
       " array([6.36285043e-06, 1.07221828e-01, 2.14437293e-01, 3.21652758e-01,\n",
       "        4.28868223e-01, 5.36083688e-01, 6.43299153e-01, 7.50514618e-01,\n",
       "        8.57730083e-01, 9.64945548e-01, 1.07216101e+00, 1.17937648e+00,\n",
       "        1.28659194e+00, 1.39380741e+00, 1.50102287e+00, 1.60823834e+00,\n",
       "        1.71545380e+00, 1.82266927e+00, 1.92988473e+00, 2.03710020e+00,\n",
       "        2.14431566e+00, 2.25153113e+00, 2.35874659e+00, 2.46596206e+00,\n",
       "        2.57317752e+00, 2.68039299e+00, 2.78760845e+00, 2.89482392e+00,\n",
       "        3.00203938e+00, 3.10925485e+00, 3.21647031e+00, 3.32368578e+00,\n",
       "        3.43090124e+00, 3.53811671e+00, 3.64533217e+00, 3.75254764e+00,\n",
       "        3.85976310e+00, 3.96697857e+00, 4.07419403e+00, 4.18140950e+00,\n",
       "        4.28862496e+00, 4.39584043e+00, 4.50305589e+00, 4.61027136e+00,\n",
       "        4.71748682e+00, 4.82470229e+00, 4.93191775e+00, 5.03913322e+00,\n",
       "        5.14634868e+00, 5.25356415e+00, 5.36077961e+00, 5.46799508e+00,\n",
       "        5.57521054e+00, 5.68242601e+00, 5.78964147e+00, 5.89685694e+00,\n",
       "        6.00407240e+00, 6.11128787e+00, 6.21850333e+00, 6.32571880e+00,\n",
       "        6.43293426e+00, 6.54014973e+00, 6.64736519e+00, 6.75458066e+00,\n",
       "        6.86179612e+00, 6.96901159e+00, 7.07622705e+00, 7.18344252e+00,\n",
       "        7.29065798e+00, 7.39787345e+00, 7.50508891e+00, 7.61230438e+00,\n",
       "        7.71951984e+00, 7.82673531e+00, 7.93395077e+00, 8.04116624e+00,\n",
       "        8.14838170e+00, 8.25559717e+00, 8.36281263e+00, 8.47002810e+00,\n",
       "        8.57724356e+00, 8.68445903e+00, 8.79167449e+00, 8.89888996e+00,\n",
       "        9.00610542e+00, 9.11332089e+00, 9.22053635e+00, 9.32775182e+00,\n",
       "        9.43496728e+00, 9.54218275e+00, 9.64939821e+00, 9.75661368e+00,\n",
       "        9.86382914e+00, 9.97104461e+00, 1.00782601e+01, 1.01854755e+01,\n",
       "        1.02926910e+01, 1.03999065e+01, 1.05071219e+01, 1.06143374e+01,\n",
       "        1.07215529e+01]),\n",
       " <a list of 100 Patch objects>)"
      ]
     },
     "execution_count": 47,
     "metadata": {},
     "output_type": "execute_result"
    },
    {
     "data": {
      "image/png": "[encoded data removed]",
      "text/plain": [
       "<Figure size 432x288 with 1 Axes>"
      ]
     },
     "metadata": {
      "needs_background": "light"
     },
     "output_type": "display_data"
    }
   ],
   "source": [
    "x=np.random.uniform(size=100000)\n",
    "y=-np.log(x)\n",
    "plt.hist(y,bins=100)"
   ]
  },
  {
   "cell_type": "markdown",
   "metadata": {},
   "source": [
    "Compare with exponential distribution~"
   ]
  },
  {
   "cell_type": "code",
   "execution_count": null,
   "metadata": {},
   "outputs": [],
   "source": []
  }
 ],
 "metadata": {
  "kernelspec": {
   "display_name": "Python 3",
   "language": "python",
   "name": "python3"
  },
  "language_info": {
   "codemirror_mode": {
    "name": "ipython",
    "version": 3
   },
   "file_extension": ".py",
   "mimetype": "text/x-python",
   "name": "python",
   "nbconvert_exporter": "python",
   "pygments_lexer": "ipython3",
   "version": "3.7.3"
  }
 },
 "nbformat": 4,
 "nbformat_minor": 2
}

{
 "cells": [
  {
   "cell_type": "markdown",
   "metadata": {},
   "source": [
    "# Linear models "
   ]
  },
  {
   "cell_type": "markdown",
   "metadata": {},
   "source": [
    "In this example, we will try out methods of logistic regression to predict binary feature using information from social network.\n",
    "\n",
    "Imagine you want to make a purchase of item you cannot afford (a new car, gaming console, phone, etc.). In order to approve a loan, banks look at the credit information available on the customer (previous loans, salaries, assets, etc.). If you are a young person, this information may not be available. More recent efforts attempt to introduce data sources that can be used alternatively to assess credit worthiness. That includes data from social networks that can be used to obtain credit score for individuals without tranditional credit sources (which includes young people without credit history).\n",
    "\n",
    "Your objective in this exersise is to use the data from our randomized social network and obtain the model that provides the best description of ability to obtain loan to buy items. It will include two sub-objectives:\n",
    "\n",
    "1. Find the best variables to rely on in identifying ability to pay a loan\n",
    "\n",
    "2. Find the model that provides the best accuracy (the most close to the data) based on testing data"
   ]
  },
  {
   "cell_type": "code",
   "execution_count": 1,
   "metadata": {},
   "outputs": [],
   "source": [
    "## Import necessary modules and load the data\n",
    "%run linear_models_helper.py"
   ]
  },
  {
   "cell_type": "markdown",
   "metadata": {},
   "source": [
    "The dataset contains a number of fields randomized to generate social network profile:\n",
    "\n",
    "- 'face_id'- id assocated with profile picture\n",
    "- 'age' - age of a person\n",
    "- 'gender' - gender of a person\n",
    "- 'relationship' - marital status (single, married)\n",
    "- 'music_genre' - favourite musical genre (random, pre-defined list)\n",
    "- 'band' - random band name based on 'music_genre' (random, non-existant)\n",
    "- 'team' - favourite team (random, from list of teams)\n",
    "- 'first_name' - random first name\n",
    "- 'last_name' - random last name (relationship=='married' adopts the name of the partner)\n",
    "- 'education' - education level (random conditional on age, pre-defined list)\n",
    "- 'education_prompt' - technical field for web page render\n",
    "- 'work'- employer name (if any, otherwise 'unemployed'; random conditional on 'education', non-existant)\n",
    "- 'work_prompt' - technical field for web page render\n",
    "- 'fav_movie_1' - favourite movie (random based on genre, pre-defined list)\n",
    "- 'fav_movie_2' - favourite movie (random based on genre, pre-defined list; disjoint genre from 'fav_movie_1')\n",
    "- 'fav_book_1' - favourite book (random, pre-defined list)\n",
    "- 'fav_book_2' - favourite book (random, pre-defined list)\n",
    "- 'fav_book_3' - favourite book (random, pre-defined list)\n",
    "- 'fav_auth_1' - favourite book's author (conditional of fav_book_1)\n",
    "- 'fav_auth_2' - favourite book's author (conditional of fav_book_2)\n",
    "- 'fav_auth_3' - favourite book's author (conditional of fav_book_3)\n",
    "- 'fav_food_1' - favourite dish (random, pre-defined list)\n",
    "- 'fav_food_2' - favourite dish (random, pre-defined list)\n",
    "- 'fav_food_3' - favourite dish (random, pre-defined list)\n",
    "- 'home_city' - home town (random US town)\n",
    "- 'home_state' - home state (based on 'home_city')\n",
    "- 'languages' - number of languages person speaks (random, 1-4)\n",
    "- 'hogwarts' - hogwarts house (random, pre-defined list)\n",
    "- 'fav_pet' - favourite pet (random, pre-defined list)\n",
    "- 'vg_genre' - favourite video game genre (random, pre-defined list)\n",
    "- 'fav_video_game' - favourite video game (random, based on 'vg_genre')\n",
    "- 'spouse_id' - 'face_id' of spouse\n",
    "- 'n_friends' - number of friends in the network (degree of a node in the social network graph)\n",
    "- 'credit' - randomly generate binary variable, credit worthiness"
   ]
  },
  {
   "cell_type": "markdown",
   "metadata": {},
   "source": [
    "An important part of modeling is proper selection of variables that will explain your model. In our case, we want to find features that will explain the ability to repay a loan. Take a random set of features using knowledge you got from slides to find the best combination of variables."
   ]
  },
  {
   "cell_type": "code",
   "execution_count": 6,
   "metadata": {},
   "outputs": [
    {
     "data": {
      "text/plain": [
       "['face_id',\n",
       " 'age',\n",
       " 'gender',\n",
       " 'relationship',\n",
       " 'music_genre',\n",
       " 'band',\n",
       " 'team',\n",
       " 'first_name',\n",
       " 'last_name',\n",
       " 'education',\n",
       " 'education_prompt',\n",
       " 'work',\n",
       " 'work_prompt',\n",
       " 'fav_movie_1',\n",
       " 'fav_movie_2',\n",
       " 'fav_book_1',\n",
       " 'fav_book_2',\n",
       " 'fav_book_3',\n",
       " 'fav_auth_1',\n",
       " 'fav_auth_2',\n",
       " 'fav_auth_3',\n",
       " 'fav_food_1',\n",
       " 'fav_food_2',\n",
       " 'fav_food_3',\n",
       " 'home_city',\n",
       " 'home_state',\n",
       " 'languages',\n",
       " 'hogwarts',\n",
       " 'fav_pet',\n",
       " 'vg_genre',\n",
       " 'fav_video_game',\n",
       " 'spouse_id',\n",
       " 'n_friends',\n",
       " 'credit',\n",
       " 'state']"
      ]
     },
     "execution_count": 6,
     "metadata": {},
     "output_type": "execute_result"
    }
   ],
   "source": [
    "##\n",
    "# List of available features\n",
    "##\n",
    "list(data.columns[2:])"
   ]
  },
  {
   "cell_type": "code",
   "execution_count": 12,
   "metadata": {},
   "outputs": [],
   "source": [
    "##\n",
    "# One example of using data from hogwarts house (Gryffindor 1, other houses 0), Face ID, and number of languages person speaks\n",
    "# to predict credit score\n",
    "##\n",
    "house = data['hogwarts'] == 'gryffindor' \n",
    "data['house'] = [float(i) for i in house]\n",
    "X = data[['house', 'languages', 'face_id']]\n",
    "\n",
    "y = data['credit']"
   ]
  },
  {
   "cell_type": "code",
   "execution_count": 13,
   "metadata": {},
   "outputs": [],
   "source": [
    "##\n",
    "# Split train test into 80/20 ratio.\n",
    "##\n",
    "X_train, X_test, y_train, y_test = train_test_split(X, y, test_size=0.2, random_state=RANDOM_SEED)"
   ]
  },
  {
   "cell_type": "code",
   "execution_count": 14,
   "metadata": {},
   "outputs": [
    {
     "name": "stdout",
     "output_type": "stream",
     "text": [
      "Optimization terminated successfully.\n",
      "         Current function value: 0.556890\n",
      "         Iterations 5\n"
     ]
    },
    {
     "data": {
      "text/html": [
       "<table class=\"simpletable\">\n",
       "<caption>Logit Regression Results</caption>\n",
       "<tr>\n",
       "  <th>Dep. Variable:</th>        <td>credit</td>      <th>  No. Observations:  </th>  <td>   800</td> \n",
       "</tr>\n",
       "<tr>\n",
       "  <th>Model:</th>                 <td>Logit</td>      <th>  Df Residuals:      </th>  <td>   796</td> \n",
       "</tr>\n",
       "<tr>\n",
       "  <th>Method:</th>                 <td>MLE</td>       <th>  Df Model:          </th>  <td>     3</td> \n",
       "</tr>\n",
       "<tr>\n",
       "  <th>Date:</th>            <td>Wed, 22 Apr 2020</td> <th>  Pseudo R-squ.:     </th> <td>0.002307</td>\n",
       "</tr>\n",
       "<tr>\n",
       "  <th>Time:</th>                <td>17:05:11</td>     <th>  Log-Likelihood:    </th> <td> -445.51</td>\n",
       "</tr>\n",
       "<tr>\n",
       "  <th>converged:</th>             <td>True</td>       <th>  LL-Null:           </th> <td> -446.54</td>\n",
       "</tr>\n",
       "<tr>\n",
       "  <th>Covariance Type:</th>     <td>nonrobust</td>    <th>  LLR p-value:       </th>  <td>0.5600</td> \n",
       "</tr>\n",
       "</table>\n",
       "<table class=\"simpletable\">\n",
       "<tr>\n",
       "      <td></td>         <th>coef</th>     <th>std err</th>      <th>z</th>      <th>P>|z|</th>  <th>[0.025</th>    <th>0.975]</th>  \n",
       "</tr>\n",
       "<tr>\n",
       "  <th>const</th>     <td>   -1.0112</td> <td>    0.252</td> <td>   -4.020</td> <td> 0.000</td> <td>   -1.504</td> <td>   -0.518</td>\n",
       "</tr>\n",
       "<tr>\n",
       "  <th>house</th>     <td>    0.1275</td> <td>    0.191</td> <td>    0.669</td> <td> 0.504</td> <td>   -0.246</td> <td>    0.501</td>\n",
       "</tr>\n",
       "<tr>\n",
       "  <th>languages</th> <td>    0.0140</td> <td>    0.074</td> <td>    0.191</td> <td> 0.849</td> <td>   -0.130</td> <td>    0.158</td>\n",
       "</tr>\n",
       "<tr>\n",
       "  <th>face_id</th>   <td>   -0.0004</td> <td>    0.000</td> <td>   -1.226</td> <td> 0.220</td> <td>   -0.001</td> <td>    0.000</td>\n",
       "</tr>\n",
       "</table>"
      ],
      "text/plain": [
       "<class 'statsmodels.iolib.summary.Summary'>\n",
       "\"\"\"\n",
       "                           Logit Regression Results                           \n",
       "==============================================================================\n",
       "Dep. Variable:                 credit   No. Observations:                  800\n",
       "Model:                          Logit   Df Residuals:                      796\n",
       "Method:                           MLE   Df Model:                            3\n",
       "Date:                Wed, 22 Apr 2020   Pseudo R-squ.:                0.002307\n",
       "Time:                        17:05:11   Log-Likelihood:                -445.51\n",
       "converged:                       True   LL-Null:                       -446.54\n",
       "Covariance Type:            nonrobust   LLR p-value:                    0.5600\n",
       "==============================================================================\n",
       "                 coef    std err          z      P>|z|      [0.025      0.975]\n",
       "------------------------------------------------------------------------------\n",
       "const         -1.0112      0.252     -4.020      0.000      -1.504      -0.518\n",
       "house          0.1275      0.191      0.669      0.504      -0.246       0.501\n",
       "languages      0.0140      0.074      0.191      0.849      -0.130       0.158\n",
       "face_id       -0.0004      0.000     -1.226      0.220      -0.001       0.000\n",
       "==============================================================================\n",
       "\"\"\""
      ]
     },
     "execution_count": 14,
     "metadata": {},
     "output_type": "execute_result"
    }
   ],
   "source": [
    "##\n",
    "# Fit logistic regression and provide fit summary.\n",
    "##\n",
    "lr = sm.Logit(y_train, sm.add_constant(X_train)).fit()\n",
    "lr.summary()"
   ]
  },
  {
   "cell_type": "code",
   "execution_count": null,
   "metadata": {},
   "outputs": [],
   "source": []
  },
  {
   "cell_type": "code",
   "execution_count": 18,
   "metadata": {},
   "outputs": [
    {
     "name": "stdout",
     "output_type": "stream",
     "text": [
      "Accuracy: 0.79\n"
     ]
    }
   ],
   "source": [
    "##\n",
    "# Provide accuracy for the model\n",
    "##\n",
    "y_pred = lr.predict(sm.add_constant(X_test)) > 0.5\n",
    "print(\"Accuracy: \"+ str(accuracy_score(y_test, y_pred)))"
   ]
  }
 ],
 "metadata": {
  "kernelspec": {
   "display_name": "Python 3",
   "language": "python",
   "name": "python3"
  },
  "language_info": {
   "codemirror_mode": {
    "name": "ipython",
    "version": 3
   },
   "file_extension": ".py",
   "mimetype": "text/x-python",
   "name": "python",
   "nbconvert_exporter": "python",
   "pygments_lexer": "ipython3",
   "version": "3.6.9"
  }
 },
 "nbformat": 4,
 "nbformat_minor": 4
}
